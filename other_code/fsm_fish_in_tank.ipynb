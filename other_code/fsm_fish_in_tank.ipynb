{
 "cells": [
  {
   "cell_type": "code",
   "execution_count": 1,
   "id": "097099c3-5369-4e42-aa7b-9c44a44aea0f",
   "metadata": {},
   "outputs": [],
   "source": [
    "# Imports and Initializations\n",
    "\n",
    "import portion as P\n",
    "import numpy as np\n",
    "import matplotlib.pyplot as plt\n",
    "import cmath\n",
    "from parfor import parfor\n",
    "import csv\n",
    "filestart='./food/nofood10agentswallblind_40samp_20velp_20dirp'\n",
    "filename=filestart+str(np.random.randint(1000))"
   ]
  },
  {
   "cell_type": "code",
   "execution_count": 2,
   "id": "17d9adb5-c665-4057-a4f8-fe635bd74027",
   "metadata": {},
   "outputs": [],
   "source": [
    "# Setting model parameters\n",
    "v0=2\n",
    "delv=1\n",
    "minvel=0\n",
    "maxvel=4\n",
    "deltheta=np.pi/8\n",
    "numagents=10\n",
    "tau=4\n",
    "agentradius=1\n",
    "boundaryradius=40\n",
    "thresh=12\n",
    "numsensors=40\n",
    "num_timesteps=100\n",
    "\n",
    "numsamp=50\n",
    "\n",
    "# Initializing agents\n",
    "agentsposes=np.random.random(numagents)*20+np.random.random(numagents)*20j-10-10j\n",
    "agentsdirs=np.random.normal(scale=1*deltheta,size=numagents)%(2*np.pi)+np.pi/4\n",
    "agentsvels=v0*np.ones(numagents)\n",
    "# agentsposes=np.array([0,20],complex)\n",
    "# agentsdirs=np.array([0.5,0])\n",
    "# agentsvels=[v0,0]\n",
    "\n",
    "# functions related to sensors/boundaries\n",
    "nprect=np.vectorize(cmath.rect)\n",
    "\n",
    "def distance_from_circular_boundary(agentpos):\n",
    "    return boundaryradius-np.abs(agentpos)\n",
    "\n",
    "def plotboundary(boundaryradius):\n",
    "    angles=np.linspace(0,2*np.pi,100)\n",
    "    plt.scatter(np.real(nprect(boundaryradius,angles)),np.imag(nprect(boundaryradius,angles)))\n",
    "\n",
    "def thetainterval(a,b):\n",
    "    if abs(b-a)>=2*np.pi:\n",
    "        return P.closed(0,2*np.pi)\n",
    "    a=a%(2*np.pi)\n",
    "    b=b%(2*np.pi)\n",
    "    if a<=b:\n",
    "        return P.closed(a,b)\n",
    "    else:\n",
    "        return P.closed(a,2*np.pi)|P.closed(0,b)\n",
    "\n",
    "sensorborders=np.linspace(0,2*np.pi,numsensors+1)\n",
    "halflensensor=np.pi/(1*numsensors)\n",
    "sensors=[]\n",
    "for sensor in range(numsensors):\n",
    "    sensors.append(thetainterval(sensorborders[sensor],sensorborders[sensor+1]))"
   ]
  },
  {
   "cell_type": "code",
   "execution_count": 3,
   "id": "9fc24ab6-f458-4a40-949b-231209804303",
   "metadata": {},
   "outputs": [],
   "source": [
    "\n",
    "def evolve(agentpos,agentdir, agent, othersposesovertime, move, t,tau): # Returns accessible future states estimating states for tau-t future steps\n",
    "    v=move[0]\n",
    "    othersposes=othersposesovertime[t]\n",
    "    newagentdir=(move[1])%(2*np.pi)\n",
    "    newagentposdir=[updatepos(agentpos,newagentdir,v),newagentdir]\n",
    "    if not(checkcollisions(newagentposdir[0],agent,othersposes)):\n",
    "        if t==tau:\n",
    "            return [getstate(newagentposdir,agent,othersposes)]\n",
    "        return [getstate(newagentposdir,agent,othersposes)]+sum([evolve(newagentposdir[0],newagentposdir[1],agent,othersposesovertime,nextmove,t+1,tau) for nextmove in make_moveset(newagentposdir[0],newagentposdir[1],v)],[])\n",
    "    else:\n",
    "        return []\n",
    "\n",
    "\n",
    "def checkcollisions(agentpos,agent,othersposes): #checks for collisions with other agents\n",
    "    if numagents>1 and (((np.abs(np.delete(othersposes,agent)-agentpos)).min()<=2*agentradius) or (distance_from_circular_boundary(agentpos)<=1*agentradius)):\n",
    "        return True\n",
    "    elif numagents==1 and distance_from_circular_boundary(agentpos)<=1*agentradius:\n",
    "        return True\n",
    "    else:\n",
    "        return False\n",
    "\n",
    "    \n",
    "def updatepos(agentpos,agentdir,v):\n",
    "    return agentpos+cmath.rect(v,agentdir)\n",
    "\n",
    "def getstate(agentposdir, agent, othersposes):\n",
    "    stateout=[]\n",
    "    agentpos=agentposdir[0]\n",
    "    agentdir=agentposdir[1]\n",
    "    # sensorout=wallinterval(agentpos,agentdir,thresh)  #change this to sense wall\n",
    "    sensorout=P.empty()\n",
    "    for others in range(numagents):\n",
    "        if others==agent:\n",
    "            continue\n",
    "        else:\n",
    "            disp=othersposes[others]-agentpos\n",
    "            radbydisp=agentradius/abs(disp)\n",
    "            halfsub=np.arcsin(radbydisp) if radbydisp<1 else np.pi/2\n",
    "            relthet=(cmath.phase(disp)-agentdir)            \n",
    "            sensorout=sensorout|thetainterval(relthet-halfsub,relthet+halfsub)\n",
    "    for sensor in sensors:\n",
    "        if intervallen(sensorout&sensor)>halflensensor:\n",
    "            stateout.append(1)\n",
    "        else:\n",
    "            stateout.append(0)\n",
    "    return tuple(stateout)\n",
    "\n",
    "def getbest(stateslists):\n",
    "    outs=[]\n",
    "    for statelist in stateslists:\n",
    "        statematrix=np.array(list(set(statelist)),int)\n",
    "        if statematrix.shape[0]==0:\n",
    "            score=-1\n",
    "        else:\n",
    "            score=(statematrix.shape[1]-statematrix@statematrix.T-(1-statematrix)@(1-statematrix).T).sum()/(statematrix.shape[0])\n",
    "        outs.append(score)\n",
    "    return randargmax(np.array(outs))\n",
    "    \n",
    "def randargmax(b):\n",
    "    return np.random.choice(np.where(b == b.max())[0])\n",
    "\n",
    "def intervallen(inter):\n",
    "    length=0\n",
    "    for i in inter:\n",
    "        length+=i.upper-i.lower\n",
    "    return length\n",
    "\n",
    "def findposesovertime(agentsposes,agentsdirs,agentsvels,tau):\n",
    "    posesovertime=[]\n",
    "    posesovertime.append(agentsposes)\n",
    "    newposes=agentsposes.copy()\n",
    "    newdirs=agentsdirs.copy()\n",
    "    for i in range(tau):\n",
    "        newposes=newposes+nprect(agentsvels,newdirs)\n",
    "        for agent in range(numagents):\n",
    "            newposes[agent],newdirs[agent]=reflect_circularwall(newposes[agent],newdirs[agent],0)\n",
    "        posesovertime.append(newposes.copy())\n",
    "    return posesovertime\n",
    "\n",
    "def reflect_circularwall(pos,dir,dep):\n",
    "    if distance_from_circular_boundary(pos)>1*agentradius:\n",
    "        return pos,dir\n",
    "    else:\n",
    "        xa,ya=np.real(pos),np.imag(pos)\n",
    "        if not(np.isclose(dir,np.pi/2) or np.isclose(dir,3*np.pi/2)):\n",
    "            a=1+(np.tan(dir))**2\n",
    "            b=-2*np.tan(dir)*(xa*np.tan(dir)-ya)\n",
    "            c=ya**2+(xa*np.tan(dir))**2-2*ya*xa*np.tan(dir)-(boundaryradius-1*agentradius)**2\n",
    "            x1=(-b-(b**2-4*a*c)**0.5)/(2*a)\n",
    "            y1=np.tan(dir)*(x1-xa)+ya\n",
    "            x2=(-b+(b**2-4*a*c)**0.5)/(2*a)\n",
    "            y2=np.tan(dir)*(x2-xa)+ya\n",
    "        else:\n",
    "            x1=xa\n",
    "            x2=xa\n",
    "            y1=((boundaryradius-1*agentradius)**2-xa**2)**0.5\n",
    "            y2=-y1\n",
    "        distances=np.array([(xa-x1)**2+(ya-y1)**2,(xa-x2)**2+(ya-y2)**2])\n",
    "        minind=np.argmin(distances)\n",
    "        xp,yp=[(x1,y1),(x2,y2)][minind]\n",
    "        distance=(distances[minind])**0.5\n",
    "        if dep<3:\n",
    "            newdir=(-1*dir+2*cmath.phase(xp+1j*yp)+np.pi)%(2*np.pi)\n",
    "        else:\n",
    "            newdir=(-1*dir+3*cmath.phase(xp+1j*yp)+(1)*np.pi)%(2*np.pi)\n",
    "        newpos=xp+1j*yp+cmath.rect(distance,newdir)\n",
    "        return reflect_circularwall(newpos,newdir,dep+1)\n",
    "\n",
    "def rightdiff(a,b):\n",
    "    if b>a:\n",
    "        return a+2*np.pi-b\n",
    "    else: return a-b\n",
    "\n",
    "def wallinterval(agentpos,agentdir,thresh):\n",
    "    dist=distance_from_circular_boundary(agentpos)\n",
    "    if dist>=thresh:\n",
    "        return P.empty()\n",
    "    else:\n",
    "        x0,y0=(np.real(agentpos),np.imag(agentpos))\n",
    "        R=boundaryradius\n",
    "        a=x0**2+y0**2\n",
    "        b=-1*x0*(a-thresh**2+R**2)\n",
    "        c=((a-thresh**2+R**2)/2)**2-(y0*R)**2\n",
    "        x1=(-b+(b**2-4*a*c)**0.5)/(2*a)\n",
    "        if np.isclose(y0,0):\n",
    "            if x0>0:\n",
    "                y1=-1*(R**2-x1**2)**0.5\n",
    "            else:\n",
    "                y1=1*(R**2-x1**2)**0.5\n",
    "        else:\n",
    "            y1=((a-thresh**2+R**2)/2-x1*x0)/y0\n",
    "\n",
    "        theta1=(cmath.phase(x1+y1*1j-agentpos))%(2*np.pi)\n",
    "        theta0=(cmath.phase(agentpos))%(2*np.pi)\n",
    "        deltheta=rightdiff(theta0,theta1) if (theta0<=np.pi or np.isclose(theta0,2*np.pi)) else -rightdiff(theta1,theta0)\n",
    "        if (theta0<=np.pi or np.isclose(theta0,2*np.pi)):\n",
    "            return thetainterval(theta1-agentdir,theta1+2*deltheta-agentdir)\n",
    "        else:\n",
    "            return thetainterval(theta1+2*deltheta-agentdir,theta1-agentdir)\n",
    "\n",
    "def make_moveset(agentpos,agentdir,v):\n",
    "    dircombs=[(agentdir+deltheta)%(2*np.pi),agentdir,(agentdir-deltheta)%(2*np.pi)]\n",
    "    tempvelcombs=[v-delv,v,v+delv]\n",
    "    velcombs=[]\n",
    "    for vel in tempvelcombs:\n",
    "        if vel>=minvel and vel<=maxvel:\n",
    "            velcombs.append(vel)\n",
    "    moveset=[]\n",
    "    for vel in velcombs:\n",
    "        for dir in dircombs:\n",
    "            moveset.append([vel,dir])\n",
    "    return moveset\n",
    "\n",
    "def randevolve(numsamp,agentpos,agentdir, agent, othersposesovertime, move, k,tau,velprobs,thetprobs):\n",
    "    #k is not used, can be removed\n",
    "    v=move[0]\n",
    "    othersposes=othersposesovertime[1]\n",
    "    newagentdir=(move[1])%(2*np.pi)\n",
    "    newagentposdir=[updatepos(agentpos,newagentdir,v),newagentdir]\n",
    "    outposes=[]\n",
    "    if not(checkcollisions(newagentposdir[0],agent,othersposes)):\n",
    "        outposes.append(getstate(newagentposdir,agent,othersposes))\n",
    "        for samp in range(numsamp):\n",
    "            vel=v\n",
    "            pos,dir=newagentposdir\n",
    "            for t in range(2,tau+1):\n",
    "                newvel=vel+np.random.choice([0,-delv,delv],p=velprobs)\n",
    "                newdir=(dir+np.random.choice([0,-deltheta,deltheta],p=thetprobs))%(2*np.pi)\n",
    "                if newvel>maxvel or newvel<minvel:\n",
    "                    newvel=vel\n",
    "                newpos=updatepos(pos,newdir,newvel)\n",
    "                if not(checkcollisions(newpos,agent,othersposesovertime[t])):\n",
    "                    pos=newpos\n",
    "                    dir=newdir\n",
    "                    vel=newvel\n",
    "                    outposes.append(getstate([pos,dir],agent,othersposesovertime[t]))\n",
    "                else:\n",
    "                    break\n",
    "        return outposes            \n",
    "    else:\n",
    "        return []"
   ]
  },
  {
   "cell_type": "code",
   "execution_count": 7,
   "id": "6d4a9563-99fa-4984-95d8-924860a6f416",
   "metadata": {
    "scrolled": true
   },
   "outputs": [
    {
     "name": "stdout",
     "output_type": "stream",
     "text": [
      "0\n"
     ]
    },
    {
     "data": {
      "application/vnd.jupyter.widget-view+json": {
       "model_id": "71197d1a0d994fa0bc072408acb5c2e7",
       "version_major": 2,
       "version_minor": 0
      },
      "text/plain": [
       "  0%|          | 0/10 [00:00<?, ?it/s]"
      ]
     },
     "metadata": {},
     "output_type": "display_data"
    },
    {
     "name": "stdout",
     "output_type": "stream",
     "text": [
      "1\n"
     ]
    },
    {
     "data": {
      "application/vnd.jupyter.widget-view+json": {
       "model_id": "7d2287545cf246f3bff0b3d44df2682b",
       "version_major": 2,
       "version_minor": 0
      },
      "text/plain": [
       "  0%|          | 0/10 [00:00<?, ?it/s]"
      ]
     },
     "metadata": {},
     "output_type": "display_data"
    },
    {
     "name": "stdout",
     "output_type": "stream",
     "text": [
      "2\n"
     ]
    },
    {
     "data": {
      "application/vnd.jupyter.widget-view+json": {
       "model_id": "58151b7b0b0d43f99c55209ca639d593",
       "version_major": 2,
       "version_minor": 0
      },
      "text/plain": [
       "  0%|          | 0/10 [00:00<?, ?it/s]"
      ]
     },
     "metadata": {},
     "output_type": "display_data"
    },
    {
     "name": "stdout",
     "output_type": "stream",
     "text": [
      "3\n"
     ]
    },
    {
     "data": {
      "application/vnd.jupyter.widget-view+json": {
       "model_id": "9f2a989ce3b3453aa5f177ef266c4d55",
       "version_major": 2,
       "version_minor": 0
      },
      "text/plain": [
       "  0%|          | 0/10 [00:00<?, ?it/s]"
      ]
     },
     "metadata": {},
     "output_type": "display_data"
    },
    {
     "name": "stdout",
     "output_type": "stream",
     "text": [
      "4\n"
     ]
    },
    {
     "data": {
      "application/vnd.jupyter.widget-view+json": {
       "model_id": "6116d4178eb14b2a88dd7df9a257e888",
       "version_major": 2,
       "version_minor": 0
      },
      "text/plain": [
       "  0%|          | 0/10 [00:00<?, ?it/s]"
      ]
     },
     "metadata": {},
     "output_type": "display_data"
    },
    {
     "name": "stdout",
     "output_type": "stream",
     "text": [
      "5\n"
     ]
    },
    {
     "data": {
      "application/vnd.jupyter.widget-view+json": {
       "model_id": "7a00a35a62d24549ac84dcf9d3d1fa70",
       "version_major": 2,
       "version_minor": 0
      },
      "text/plain": [
       "  0%|          | 0/10 [00:00<?, ?it/s]"
      ]
     },
     "metadata": {},
     "output_type": "display_data"
    },
    {
     "name": "stdout",
     "output_type": "stream",
     "text": [
      "6\n"
     ]
    },
    {
     "data": {
      "application/vnd.jupyter.widget-view+json": {
       "model_id": "48c39e128f8a42f68bac83dadfdf95b6",
       "version_major": 2,
       "version_minor": 0
      },
      "text/plain": [
       "  0%|          | 0/10 [00:00<?, ?it/s]"
      ]
     },
     "metadata": {},
     "output_type": "display_data"
    },
    {
     "name": "stdout",
     "output_type": "stream",
     "text": [
      "7\n"
     ]
    },
    {
     "data": {
      "application/vnd.jupyter.widget-view+json": {
       "model_id": "a8d0a210775c4f348014e7e50a4c96d7",
       "version_major": 2,
       "version_minor": 0
      },
      "text/plain": [
       "  0%|          | 0/10 [00:00<?, ?it/s]"
      ]
     },
     "metadata": {},
     "output_type": "display_data"
    },
    {
     "name": "stdout",
     "output_type": "stream",
     "text": [
      "8\n"
     ]
    },
    {
     "data": {
      "application/vnd.jupyter.widget-view+json": {
       "model_id": "6295bfaa4cb9427cb14ca6be3581dc1c",
       "version_major": 2,
       "version_minor": 0
      },
      "text/plain": [
       "  0%|          | 0/10 [00:00<?, ?it/s]"
      ]
     },
     "metadata": {},
     "output_type": "display_data"
    },
    {
     "name": "stdout",
     "output_type": "stream",
     "text": [
      "9\n"
     ]
    },
    {
     "data": {
      "application/vnd.jupyter.widget-view+json": {
       "model_id": "cd5c32f9a5d6439396b5e761be44459f",
       "version_major": 2,
       "version_minor": 0
      },
      "text/plain": [
       "  0%|          | 0/10 [00:00<?, ?it/s]"
      ]
     },
     "metadata": {},
     "output_type": "display_data"
    },
    {
     "name": "stdout",
     "output_type": "stream",
     "text": [
      "10\n"
     ]
    },
    {
     "data": {
      "application/vnd.jupyter.widget-view+json": {
       "model_id": "31e28bab7493413a9b551b031b3ef421",
       "version_major": 2,
       "version_minor": 0
      },
      "text/plain": [
       "  0%|          | 0/10 [00:00<?, ?it/s]"
      ]
     },
     "metadata": {},
     "output_type": "display_data"
    },
    {
     "name": "stdout",
     "output_type": "stream",
     "text": [
      "11\n"
     ]
    },
    {
     "data": {
      "application/vnd.jupyter.widget-view+json": {
       "model_id": "8614df594c7d4b928fc5c9cd45a781ea",
       "version_major": 2,
       "version_minor": 0
      },
      "text/plain": [
       "  0%|          | 0/10 [00:00<?, ?it/s]"
      ]
     },
     "metadata": {},
     "output_type": "display_data"
    },
    {
     "name": "stdout",
     "output_type": "stream",
     "text": [
      "12\n"
     ]
    },
    {
     "data": {
      "application/vnd.jupyter.widget-view+json": {
       "model_id": "411eee86962a411a823b57f29c5c88b4",
       "version_major": 2,
       "version_minor": 0
      },
      "text/plain": [
       "  0%|          | 0/10 [00:00<?, ?it/s]"
      ]
     },
     "metadata": {},
     "output_type": "display_data"
    },
    {
     "name": "stdout",
     "output_type": "stream",
     "text": [
      "13\n"
     ]
    },
    {
     "data": {
      "application/vnd.jupyter.widget-view+json": {
       "model_id": "10db9f771ea14d4b9d624b97e438f7fc",
       "version_major": 2,
       "version_minor": 0
      },
      "text/plain": [
       "  0%|          | 0/10 [00:00<?, ?it/s]"
      ]
     },
     "metadata": {},
     "output_type": "display_data"
    },
    {
     "name": "stdout",
     "output_type": "stream",
     "text": [
      "14\n"
     ]
    },
    {
     "data": {
      "application/vnd.jupyter.widget-view+json": {
       "model_id": "e4551bcda0d04c58b3a34015413e7956",
       "version_major": 2,
       "version_minor": 0
      },
      "text/plain": [
       "  0%|          | 0/10 [00:00<?, ?it/s]"
      ]
     },
     "metadata": {},
     "output_type": "display_data"
    },
    {
     "name": "stdout",
     "output_type": "stream",
     "text": [
      "15\n"
     ]
    },
    {
     "data": {
      "application/vnd.jupyter.widget-view+json": {
       "model_id": "00eebfbab09141ffadc76be4c7c321be",
       "version_major": 2,
       "version_minor": 0
      },
      "text/plain": [
       "  0%|          | 0/10 [00:00<?, ?it/s]"
      ]
     },
     "metadata": {},
     "output_type": "display_data"
    },
    {
     "name": "stdout",
     "output_type": "stream",
     "text": [
      "16\n"
     ]
    },
    {
     "data": {
      "application/vnd.jupyter.widget-view+json": {
       "model_id": "feec690c38024a30b27927b815a16f4e",
       "version_major": 2,
       "version_minor": 0
      },
      "text/plain": [
       "  0%|          | 0/10 [00:00<?, ?it/s]"
      ]
     },
     "metadata": {},
     "output_type": "display_data"
    },
    {
     "name": "stdout",
     "output_type": "stream",
     "text": [
      "17\n"
     ]
    },
    {
     "data": {
      "application/vnd.jupyter.widget-view+json": {
       "model_id": "f98d1b307251450bb4cbfdc9acb5d6cb",
       "version_major": 2,
       "version_minor": 0
      },
      "text/plain": [
       "  0%|          | 0/10 [00:00<?, ?it/s]"
      ]
     },
     "metadata": {},
     "output_type": "display_data"
    },
    {
     "name": "stdout",
     "output_type": "stream",
     "text": [
      "18\n"
     ]
    },
    {
     "data": {
      "application/vnd.jupyter.widget-view+json": {
       "model_id": "fd55ff31513d4391a53c53ab6d94d13c",
       "version_major": 2,
       "version_minor": 0
      },
      "text/plain": [
       "  0%|          | 0/10 [00:00<?, ?it/s]"
      ]
     },
     "metadata": {},
     "output_type": "display_data"
    },
    {
     "name": "stdout",
     "output_type": "stream",
     "text": [
      "19\n"
     ]
    },
    {
     "data": {
      "application/vnd.jupyter.widget-view+json": {
       "model_id": "cc69d08f21354bc083d274a138caba2f",
       "version_major": 2,
       "version_minor": 0
      },
      "text/plain": [
       "  0%|          | 0/10 [00:00<?, ?it/s]"
      ]
     },
     "metadata": {},
     "output_type": "display_data"
    },
    {
     "name": "stdout",
     "output_type": "stream",
     "text": [
      "20\n"
     ]
    },
    {
     "data": {
      "application/vnd.jupyter.widget-view+json": {
       "model_id": "731dfa9cbec443ff8f137a02d8c303ad",
       "version_major": 2,
       "version_minor": 0
      },
      "text/plain": [
       "  0%|          | 0/10 [00:00<?, ?it/s]"
      ]
     },
     "metadata": {},
     "output_type": "display_data"
    },
    {
     "name": "stdout",
     "output_type": "stream",
     "text": [
      "21\n"
     ]
    },
    {
     "data": {
      "application/vnd.jupyter.widget-view+json": {
       "model_id": "457b808992214b8aa1a964f822151373",
       "version_major": 2,
       "version_minor": 0
      },
      "text/plain": [
       "  0%|          | 0/10 [00:00<?, ?it/s]"
      ]
     },
     "metadata": {},
     "output_type": "display_data"
    },
    {
     "name": "stdout",
     "output_type": "stream",
     "text": [
      "22\n"
     ]
    },
    {
     "data": {
      "application/vnd.jupyter.widget-view+json": {
       "model_id": "a78802efed8b494ea6496c039f127154",
       "version_major": 2,
       "version_minor": 0
      },
      "text/plain": [
       "  0%|          | 0/10 [00:00<?, ?it/s]"
      ]
     },
     "metadata": {},
     "output_type": "display_data"
    },
    {
     "name": "stdout",
     "output_type": "stream",
     "text": [
      "23\n"
     ]
    },
    {
     "data": {
      "application/vnd.jupyter.widget-view+json": {
       "model_id": "32a1a7c2820842dabb82421939b6ddce",
       "version_major": 2,
       "version_minor": 0
      },
      "text/plain": [
       "  0%|          | 0/10 [00:00<?, ?it/s]"
      ]
     },
     "metadata": {},
     "output_type": "display_data"
    },
    {
     "name": "stdout",
     "output_type": "stream",
     "text": [
      "24\n"
     ]
    },
    {
     "data": {
      "application/vnd.jupyter.widget-view+json": {
       "model_id": "8cb2c27f098e4940999e3c4c39f52e13",
       "version_major": 2,
       "version_minor": 0
      },
      "text/plain": [
       "  0%|          | 0/10 [00:00<?, ?it/s]"
      ]
     },
     "metadata": {},
     "output_type": "display_data"
    },
    {
     "name": "stdout",
     "output_type": "stream",
     "text": [
      "25\n"
     ]
    },
    {
     "data": {
      "application/vnd.jupyter.widget-view+json": {
       "model_id": "e4f6c667027e422fb638e70bc186c45b",
       "version_major": 2,
       "version_minor": 0
      },
      "text/plain": [
       "  0%|          | 0/10 [00:00<?, ?it/s]"
      ]
     },
     "metadata": {},
     "output_type": "display_data"
    },
    {
     "name": "stdout",
     "output_type": "stream",
     "text": [
      "26\n"
     ]
    },
    {
     "data": {
      "application/vnd.jupyter.widget-view+json": {
       "model_id": "fcac5fd1f20b470190a010cbd756a1a7",
       "version_major": 2,
       "version_minor": 0
      },
      "text/plain": [
       "  0%|          | 0/10 [00:00<?, ?it/s]"
      ]
     },
     "metadata": {},
     "output_type": "display_data"
    },
    {
     "name": "stdout",
     "output_type": "stream",
     "text": [
      "27\n"
     ]
    },
    {
     "data": {
      "application/vnd.jupyter.widget-view+json": {
       "model_id": "55cc2134815f4a9c9f8e9b5e4e61a05d",
       "version_major": 2,
       "version_minor": 0
      },
      "text/plain": [
       "  0%|          | 0/10 [00:00<?, ?it/s]"
      ]
     },
     "metadata": {},
     "output_type": "display_data"
    },
    {
     "name": "stdout",
     "output_type": "stream",
     "text": [
      "28\n"
     ]
    },
    {
     "data": {
      "application/vnd.jupyter.widget-view+json": {
       "model_id": "ad4e1e15ed9a44338d8d5267e80ae907",
       "version_major": 2,
       "version_minor": 0
      },
      "text/plain": [
       "  0%|          | 0/10 [00:00<?, ?it/s]"
      ]
     },
     "metadata": {},
     "output_type": "display_data"
    },
    {
     "name": "stdout",
     "output_type": "stream",
     "text": [
      "29\n"
     ]
    },
    {
     "data": {
      "application/vnd.jupyter.widget-view+json": {
       "model_id": "2368aaa4505d4aecac9b33b886f3e841",
       "version_major": 2,
       "version_minor": 0
      },
      "text/plain": [
       "  0%|          | 0/10 [00:00<?, ?it/s]"
      ]
     },
     "metadata": {},
     "output_type": "display_data"
    },
    {
     "name": "stdout",
     "output_type": "stream",
     "text": [
      "30\n"
     ]
    },
    {
     "data": {
      "application/vnd.jupyter.widget-view+json": {
       "model_id": "93fe56ae521740b9895856cd037fc8a8",
       "version_major": 2,
       "version_minor": 0
      },
      "text/plain": [
       "  0%|          | 0/10 [00:00<?, ?it/s]"
      ]
     },
     "metadata": {},
     "output_type": "display_data"
    },
    {
     "name": "stdout",
     "output_type": "stream",
     "text": [
      "31\n"
     ]
    },
    {
     "data": {
      "application/vnd.jupyter.widget-view+json": {
       "model_id": "b2b9f22d8e274a86908189c977e51df7",
       "version_major": 2,
       "version_minor": 0
      },
      "text/plain": [
       "  0%|          | 0/10 [00:00<?, ?it/s]"
      ]
     },
     "metadata": {},
     "output_type": "display_data"
    },
    {
     "name": "stdout",
     "output_type": "stream",
     "text": [
      "32\n"
     ]
    },
    {
     "data": {
      "application/vnd.jupyter.widget-view+json": {
       "model_id": "e125f33b0d1c467d8e133a217ee8a1f9",
       "version_major": 2,
       "version_minor": 0
      },
      "text/plain": [
       "  0%|          | 0/10 [00:00<?, ?it/s]"
      ]
     },
     "metadata": {},
     "output_type": "display_data"
    },
    {
     "name": "stdout",
     "output_type": "stream",
     "text": [
      "33\n"
     ]
    },
    {
     "data": {
      "application/vnd.jupyter.widget-view+json": {
       "model_id": "1a049ba1fd69471b9628e04995a04a66",
       "version_major": 2,
       "version_minor": 0
      },
      "text/plain": [
       "  0%|          | 0/10 [00:00<?, ?it/s]"
      ]
     },
     "metadata": {},
     "output_type": "display_data"
    },
    {
     "name": "stdout",
     "output_type": "stream",
     "text": [
      "34\n"
     ]
    },
    {
     "data": {
      "application/vnd.jupyter.widget-view+json": {
       "model_id": "b6bbb817793c43d99f73e7ca94dc7158",
       "version_major": 2,
       "version_minor": 0
      },
      "text/plain": [
       "  0%|          | 0/10 [00:00<?, ?it/s]"
      ]
     },
     "metadata": {},
     "output_type": "display_data"
    },
    {
     "name": "stdout",
     "output_type": "stream",
     "text": [
      "35\n"
     ]
    },
    {
     "data": {
      "application/vnd.jupyter.widget-view+json": {
       "model_id": "56bb148ee40a4a0b8efb0ec2014e2fe7",
       "version_major": 2,
       "version_minor": 0
      },
      "text/plain": [
       "  0%|          | 0/10 [00:00<?, ?it/s]"
      ]
     },
     "metadata": {},
     "output_type": "display_data"
    },
    {
     "name": "stdout",
     "output_type": "stream",
     "text": [
      "36\n"
     ]
    },
    {
     "data": {
      "application/vnd.jupyter.widget-view+json": {
       "model_id": "18f3caa9a67049da98bf43adbb264022",
       "version_major": 2,
       "version_minor": 0
      },
      "text/plain": [
       "  0%|          | 0/10 [00:00<?, ?it/s]"
      ]
     },
     "metadata": {},
     "output_type": "display_data"
    },
    {
     "name": "stdout",
     "output_type": "stream",
     "text": [
      "37\n"
     ]
    },
    {
     "data": {
      "application/vnd.jupyter.widget-view+json": {
       "model_id": "500b8be2eed7473783deb3bf9e708b7f",
       "version_major": 2,
       "version_minor": 0
      },
      "text/plain": [
       "  0%|          | 0/10 [00:00<?, ?it/s]"
      ]
     },
     "metadata": {},
     "output_type": "display_data"
    },
    {
     "name": "stdout",
     "output_type": "stream",
     "text": [
      "38\n"
     ]
    },
    {
     "data": {
      "application/vnd.jupyter.widget-view+json": {
       "model_id": "25d025df06ff45c69223bccdca894d15",
       "version_major": 2,
       "version_minor": 0
      },
      "text/plain": [
       "  0%|          | 0/10 [00:00<?, ?it/s]"
      ]
     },
     "metadata": {},
     "output_type": "display_data"
    },
    {
     "name": "stdout",
     "output_type": "stream",
     "text": [
      "39\n"
     ]
    },
    {
     "data": {
      "application/vnd.jupyter.widget-view+json": {
       "model_id": "215dc9d468e44ac083de52f7e42f7cdd",
       "version_major": 2,
       "version_minor": 0
      },
      "text/plain": [
       "  0%|          | 0/10 [00:00<?, ?it/s]"
      ]
     },
     "metadata": {},
     "output_type": "display_data"
    },
    {
     "name": "stdout",
     "output_type": "stream",
     "text": [
      "40\n"
     ]
    },
    {
     "data": {
      "application/vnd.jupyter.widget-view+json": {
       "model_id": "cf6f46fd96b6435c89a6959e3ef96b45",
       "version_major": 2,
       "version_minor": 0
      },
      "text/plain": [
       "  0%|          | 0/10 [00:00<?, ?it/s]"
      ]
     },
     "metadata": {},
     "output_type": "display_data"
    },
    {
     "name": "stdout",
     "output_type": "stream",
     "text": [
      "41\n"
     ]
    },
    {
     "data": {
      "application/vnd.jupyter.widget-view+json": {
       "model_id": "07fb6b410f4c4708960682f61d03afd2",
       "version_major": 2,
       "version_minor": 0
      },
      "text/plain": [
       "  0%|          | 0/10 [00:00<?, ?it/s]"
      ]
     },
     "metadata": {},
     "output_type": "display_data"
    },
    {
     "name": "stdout",
     "output_type": "stream",
     "text": [
      "42\n"
     ]
    },
    {
     "data": {
      "application/vnd.jupyter.widget-view+json": {
       "model_id": "4a567619fb454c14a9a7677454350542",
       "version_major": 2,
       "version_minor": 0
      },
      "text/plain": [
       "  0%|          | 0/10 [00:00<?, ?it/s]"
      ]
     },
     "metadata": {},
     "output_type": "display_data"
    },
    {
     "name": "stdout",
     "output_type": "stream",
     "text": [
      "43\n"
     ]
    },
    {
     "data": {
      "application/vnd.jupyter.widget-view+json": {
       "model_id": "5f8aa729658a41d2a721ea74393f7bac",
       "version_major": 2,
       "version_minor": 0
      },
      "text/plain": [
       "  0%|          | 0/10 [00:00<?, ?it/s]"
      ]
     },
     "metadata": {},
     "output_type": "display_data"
    },
    {
     "name": "stdout",
     "output_type": "stream",
     "text": [
      "44\n"
     ]
    },
    {
     "data": {
      "application/vnd.jupyter.widget-view+json": {
       "model_id": "c05c6df779e747fab8aeb3139bae51f3",
       "version_major": 2,
       "version_minor": 0
      },
      "text/plain": [
       "  0%|          | 0/10 [00:00<?, ?it/s]"
      ]
     },
     "metadata": {},
     "output_type": "display_data"
    },
    {
     "name": "stdout",
     "output_type": "stream",
     "text": [
      "45\n"
     ]
    },
    {
     "data": {
      "application/vnd.jupyter.widget-view+json": {
       "model_id": "37824265b83f4257af7ee2db117fa0e0",
       "version_major": 2,
       "version_minor": 0
      },
      "text/plain": [
       "  0%|          | 0/10 [00:00<?, ?it/s]"
      ]
     },
     "metadata": {},
     "output_type": "display_data"
    },
    {
     "name": "stdout",
     "output_type": "stream",
     "text": [
      "46\n"
     ]
    },
    {
     "data": {
      "application/vnd.jupyter.widget-view+json": {
       "model_id": "8767a1e920f842acb276659226080558",
       "version_major": 2,
       "version_minor": 0
      },
      "text/plain": [
       "  0%|          | 0/10 [00:00<?, ?it/s]"
      ]
     },
     "metadata": {},
     "output_type": "display_data"
    },
    {
     "name": "stdout",
     "output_type": "stream",
     "text": [
      "47\n"
     ]
    },
    {
     "data": {
      "application/vnd.jupyter.widget-view+json": {
       "model_id": "c9f8202ee9884189940b88cd270539b4",
       "version_major": 2,
       "version_minor": 0
      },
      "text/plain": [
       "  0%|          | 0/10 [00:00<?, ?it/s]"
      ]
     },
     "metadata": {},
     "output_type": "display_data"
    },
    {
     "name": "stdout",
     "output_type": "stream",
     "text": [
      "48\n"
     ]
    },
    {
     "data": {
      "application/vnd.jupyter.widget-view+json": {
       "model_id": "24e015495fb14fa59815e0e3ce85c9e3",
       "version_major": 2,
       "version_minor": 0
      },
      "text/plain": [
       "  0%|          | 0/10 [00:00<?, ?it/s]"
      ]
     },
     "metadata": {},
     "output_type": "display_data"
    },
    {
     "name": "stdout",
     "output_type": "stream",
     "text": [
      "49\n"
     ]
    },
    {
     "data": {
      "application/vnd.jupyter.widget-view+json": {
       "model_id": "d10d3767e373452988ee8bc528f9cc34",
       "version_major": 2,
       "version_minor": 0
      },
      "text/plain": [
       "  0%|          | 0/10 [00:00<?, ?it/s]"
      ]
     },
     "metadata": {},
     "output_type": "display_data"
    },
    {
     "name": "stdout",
     "output_type": "stream",
     "text": [
      "50\n"
     ]
    },
    {
     "data": {
      "application/vnd.jupyter.widget-view+json": {
       "model_id": "2b021dab76fd4f27bbea9619b0312919",
       "version_major": 2,
       "version_minor": 0
      },
      "text/plain": [
       "  0%|          | 0/10 [00:00<?, ?it/s]"
      ]
     },
     "metadata": {},
     "output_type": "display_data"
    },
    {
     "name": "stdout",
     "output_type": "stream",
     "text": [
      "51\n"
     ]
    },
    {
     "data": {
      "application/vnd.jupyter.widget-view+json": {
       "model_id": "58ffbf4143b64542bdfd4ef64e113fba",
       "version_major": 2,
       "version_minor": 0
      },
      "text/plain": [
       "  0%|          | 0/10 [00:00<?, ?it/s]"
      ]
     },
     "metadata": {},
     "output_type": "display_data"
    },
    {
     "name": "stdout",
     "output_type": "stream",
     "text": [
      "52\n"
     ]
    },
    {
     "data": {
      "application/vnd.jupyter.widget-view+json": {
       "model_id": "1bacf18c5fb849a78a46a4481faaeb84",
       "version_major": 2,
       "version_minor": 0
      },
      "text/plain": [
       "  0%|          | 0/10 [00:00<?, ?it/s]"
      ]
     },
     "metadata": {},
     "output_type": "display_data"
    },
    {
     "name": "stdout",
     "output_type": "stream",
     "text": [
      "53\n"
     ]
    },
    {
     "data": {
      "application/vnd.jupyter.widget-view+json": {
       "model_id": "24d2ec73f5dc4160bc68fcb5bf815469",
       "version_major": 2,
       "version_minor": 0
      },
      "text/plain": [
       "  0%|          | 0/10 [00:00<?, ?it/s]"
      ]
     },
     "metadata": {},
     "output_type": "display_data"
    },
    {
     "name": "stdout",
     "output_type": "stream",
     "text": [
      "54\n"
     ]
    },
    {
     "data": {
      "application/vnd.jupyter.widget-view+json": {
       "model_id": "70e6879cdfe0476894f4cab53edfb0fe",
       "version_major": 2,
       "version_minor": 0
      },
      "text/plain": [
       "  0%|          | 0/10 [00:00<?, ?it/s]"
      ]
     },
     "metadata": {},
     "output_type": "display_data"
    },
    {
     "name": "stdout",
     "output_type": "stream",
     "text": [
      "55\n"
     ]
    },
    {
     "data": {
      "application/vnd.jupyter.widget-view+json": {
       "model_id": "8c4466862ab348b594b73d303066318d",
       "version_major": 2,
       "version_minor": 0
      },
      "text/plain": [
       "  0%|          | 0/10 [00:00<?, ?it/s]"
      ]
     },
     "metadata": {},
     "output_type": "display_data"
    },
    {
     "name": "stdout",
     "output_type": "stream",
     "text": [
      "56\n"
     ]
    },
    {
     "data": {
      "application/vnd.jupyter.widget-view+json": {
       "model_id": "811be372be714c6c81ae4fdeb8b6d949",
       "version_major": 2,
       "version_minor": 0
      },
      "text/plain": [
       "  0%|          | 0/10 [00:00<?, ?it/s]"
      ]
     },
     "metadata": {},
     "output_type": "display_data"
    },
    {
     "name": "stdout",
     "output_type": "stream",
     "text": [
      "57\n"
     ]
    },
    {
     "data": {
      "application/vnd.jupyter.widget-view+json": {
       "model_id": "703b13940219401d9db94ab3cec9f347",
       "version_major": 2,
       "version_minor": 0
      },
      "text/plain": [
       "  0%|          | 0/10 [00:00<?, ?it/s]"
      ]
     },
     "metadata": {},
     "output_type": "display_data"
    },
    {
     "name": "stdout",
     "output_type": "stream",
     "text": [
      "58\n"
     ]
    },
    {
     "data": {
      "application/vnd.jupyter.widget-view+json": {
       "model_id": "82f4f97b75fc4d03ab6179192b770b3d",
       "version_major": 2,
       "version_minor": 0
      },
      "text/plain": [
       "  0%|          | 0/10 [00:00<?, ?it/s]"
      ]
     },
     "metadata": {},
     "output_type": "display_data"
    },
    {
     "name": "stdout",
     "output_type": "stream",
     "text": [
      "59\n"
     ]
    },
    {
     "data": {
      "application/vnd.jupyter.widget-view+json": {
       "model_id": "2e9d3ecbded04c7aa1ea1f743a84a593",
       "version_major": 2,
       "version_minor": 0
      },
      "text/plain": [
       "  0%|          | 0/10 [00:00<?, ?it/s]"
      ]
     },
     "metadata": {},
     "output_type": "display_data"
    },
    {
     "name": "stdout",
     "output_type": "stream",
     "text": [
      "60\n"
     ]
    },
    {
     "data": {
      "application/vnd.jupyter.widget-view+json": {
       "model_id": "707efa3e967140629a633b2ad634dbb5",
       "version_major": 2,
       "version_minor": 0
      },
      "text/plain": [
       "  0%|          | 0/10 [00:00<?, ?it/s]"
      ]
     },
     "metadata": {},
     "output_type": "display_data"
    },
    {
     "name": "stdout",
     "output_type": "stream",
     "text": [
      "61\n"
     ]
    },
    {
     "data": {
      "application/vnd.jupyter.widget-view+json": {
       "model_id": "6cf9b1d9306a4ee0942cba9209e965b1",
       "version_major": 2,
       "version_minor": 0
      },
      "text/plain": [
       "  0%|          | 0/10 [00:00<?, ?it/s]"
      ]
     },
     "metadata": {},
     "output_type": "display_data"
    },
    {
     "name": "stdout",
     "output_type": "stream",
     "text": [
      "62\n"
     ]
    },
    {
     "data": {
      "application/vnd.jupyter.widget-view+json": {
       "model_id": "0cf46e815f3c459ab193f27acef0a561",
       "version_major": 2,
       "version_minor": 0
      },
      "text/plain": [
       "  0%|          | 0/10 [00:00<?, ?it/s]"
      ]
     },
     "metadata": {},
     "output_type": "display_data"
    },
    {
     "name": "stdout",
     "output_type": "stream",
     "text": [
      "63\n"
     ]
    },
    {
     "data": {
      "application/vnd.jupyter.widget-view+json": {
       "model_id": "a040d94fd348415cb029b56e6944b913",
       "version_major": 2,
       "version_minor": 0
      },
      "text/plain": [
       "  0%|          | 0/10 [00:00<?, ?it/s]"
      ]
     },
     "metadata": {},
     "output_type": "display_data"
    },
    {
     "name": "stdout",
     "output_type": "stream",
     "text": [
      "64\n"
     ]
    },
    {
     "data": {
      "application/vnd.jupyter.widget-view+json": {
       "model_id": "4193219879274ed88235889dd2557e42",
       "version_major": 2,
       "version_minor": 0
      },
      "text/plain": [
       "  0%|          | 0/10 [00:00<?, ?it/s]"
      ]
     },
     "metadata": {},
     "output_type": "display_data"
    },
    {
     "name": "stdout",
     "output_type": "stream",
     "text": [
      "65\n"
     ]
    },
    {
     "data": {
      "application/vnd.jupyter.widget-view+json": {
       "model_id": "862f74d73b6048d1947ea08534d245b3",
       "version_major": 2,
       "version_minor": 0
      },
      "text/plain": [
       "  0%|          | 0/10 [00:00<?, ?it/s]"
      ]
     },
     "metadata": {},
     "output_type": "display_data"
    },
    {
     "name": "stdout",
     "output_type": "stream",
     "text": [
      "66\n"
     ]
    },
    {
     "data": {
      "application/vnd.jupyter.widget-view+json": {
       "model_id": "2a68ce320f37424fbcd65c5f98842864",
       "version_major": 2,
       "version_minor": 0
      },
      "text/plain": [
       "  0%|          | 0/10 [00:00<?, ?it/s]"
      ]
     },
     "metadata": {},
     "output_type": "display_data"
    },
    {
     "name": "stdout",
     "output_type": "stream",
     "text": [
      "67\n"
     ]
    },
    {
     "data": {
      "application/vnd.jupyter.widget-view+json": {
       "model_id": "1555550765044d4ba2b45544b757ca65",
       "version_major": 2,
       "version_minor": 0
      },
      "text/plain": [
       "  0%|          | 0/10 [00:00<?, ?it/s]"
      ]
     },
     "metadata": {},
     "output_type": "display_data"
    },
    {
     "name": "stdout",
     "output_type": "stream",
     "text": [
      "68\n"
     ]
    },
    {
     "data": {
      "application/vnd.jupyter.widget-view+json": {
       "model_id": "61bba42a1293415485301622aa7e06eb",
       "version_major": 2,
       "version_minor": 0
      },
      "text/plain": [
       "  0%|          | 0/10 [00:00<?, ?it/s]"
      ]
     },
     "metadata": {},
     "output_type": "display_data"
    },
    {
     "name": "stdout",
     "output_type": "stream",
     "text": [
      "69\n"
     ]
    },
    {
     "data": {
      "application/vnd.jupyter.widget-view+json": {
       "model_id": "774902f857f041db80beb3adde840a74",
       "version_major": 2,
       "version_minor": 0
      },
      "text/plain": [
       "  0%|          | 0/10 [00:00<?, ?it/s]"
      ]
     },
     "metadata": {},
     "output_type": "display_data"
    },
    {
     "name": "stdout",
     "output_type": "stream",
     "text": [
      "70\n"
     ]
    },
    {
     "data": {
      "application/vnd.jupyter.widget-view+json": {
       "model_id": "b6ea9ece7df249c996a7489da3a9071e",
       "version_major": 2,
       "version_minor": 0
      },
      "text/plain": [
       "  0%|          | 0/10 [00:00<?, ?it/s]"
      ]
     },
     "metadata": {},
     "output_type": "display_data"
    },
    {
     "name": "stdout",
     "output_type": "stream",
     "text": [
      "71\n"
     ]
    },
    {
     "data": {
      "application/vnd.jupyter.widget-view+json": {
       "model_id": "3382bd551e2a43ca975487068aedd19a",
       "version_major": 2,
       "version_minor": 0
      },
      "text/plain": [
       "  0%|          | 0/10 [00:00<?, ?it/s]"
      ]
     },
     "metadata": {},
     "output_type": "display_data"
    },
    {
     "name": "stdout",
     "output_type": "stream",
     "text": [
      "72\n"
     ]
    },
    {
     "data": {
      "application/vnd.jupyter.widget-view+json": {
       "model_id": "855af3ba198e4c8d89d4d2ce2c650e73",
       "version_major": 2,
       "version_minor": 0
      },
      "text/plain": [
       "  0%|          | 0/10 [00:00<?, ?it/s]"
      ]
     },
     "metadata": {},
     "output_type": "display_data"
    },
    {
     "name": "stdout",
     "output_type": "stream",
     "text": [
      "73\n"
     ]
    },
    {
     "data": {
      "application/vnd.jupyter.widget-view+json": {
       "model_id": "42ac78314d524016a539366ba3921502",
       "version_major": 2,
       "version_minor": 0
      },
      "text/plain": [
       "  0%|          | 0/10 [00:00<?, ?it/s]"
      ]
     },
     "metadata": {},
     "output_type": "display_data"
    },
    {
     "name": "stdout",
     "output_type": "stream",
     "text": [
      "74\n"
     ]
    },
    {
     "data": {
      "application/vnd.jupyter.widget-view+json": {
       "model_id": "4cac401b00a64759a147c9c9b5257040",
       "version_major": 2,
       "version_minor": 0
      },
      "text/plain": [
       "  0%|          | 0/10 [00:00<?, ?it/s]"
      ]
     },
     "metadata": {},
     "output_type": "display_data"
    },
    {
     "name": "stdout",
     "output_type": "stream",
     "text": [
      "75\n"
     ]
    },
    {
     "data": {
      "application/vnd.jupyter.widget-view+json": {
       "model_id": "bea7a44f00ee4b4180394228378f9921",
       "version_major": 2,
       "version_minor": 0
      },
      "text/plain": [
       "  0%|          | 0/10 [00:00<?, ?it/s]"
      ]
     },
     "metadata": {},
     "output_type": "display_data"
    },
    {
     "name": "stdout",
     "output_type": "stream",
     "text": [
      "76\n"
     ]
    },
    {
     "data": {
      "application/vnd.jupyter.widget-view+json": {
       "model_id": "ef40fc1b99f54b1d85005df3ec645493",
       "version_major": 2,
       "version_minor": 0
      },
      "text/plain": [
       "  0%|          | 0/10 [00:00<?, ?it/s]"
      ]
     },
     "metadata": {},
     "output_type": "display_data"
    },
    {
     "name": "stdout",
     "output_type": "stream",
     "text": [
      "77\n"
     ]
    },
    {
     "data": {
      "application/vnd.jupyter.widget-view+json": {
       "model_id": "0e24ae14d2754d7280a005163d988603",
       "version_major": 2,
       "version_minor": 0
      },
      "text/plain": [
       "  0%|          | 0/10 [00:00<?, ?it/s]"
      ]
     },
     "metadata": {},
     "output_type": "display_data"
    },
    {
     "name": "stdout",
     "output_type": "stream",
     "text": [
      "78\n"
     ]
    },
    {
     "data": {
      "application/vnd.jupyter.widget-view+json": {
       "model_id": "c2a6a8374b794c2087eeb7b69a235e46",
       "version_major": 2,
       "version_minor": 0
      },
      "text/plain": [
       "  0%|          | 0/10 [00:00<?, ?it/s]"
      ]
     },
     "metadata": {},
     "output_type": "display_data"
    },
    {
     "name": "stdout",
     "output_type": "stream",
     "text": [
      "79\n"
     ]
    },
    {
     "data": {
      "application/vnd.jupyter.widget-view+json": {
       "model_id": "6154c2a7f76242be8da07915ad6a9c2c",
       "version_major": 2,
       "version_minor": 0
      },
      "text/plain": [
       "  0%|          | 0/10 [00:00<?, ?it/s]"
      ]
     },
     "metadata": {},
     "output_type": "display_data"
    },
    {
     "name": "stdout",
     "output_type": "stream",
     "text": [
      "80\n"
     ]
    },
    {
     "data": {
      "application/vnd.jupyter.widget-view+json": {
       "model_id": "8daaed65af1f4a099355eb5344fcfbec",
       "version_major": 2,
       "version_minor": 0
      },
      "text/plain": [
       "  0%|          | 0/10 [00:00<?, ?it/s]"
      ]
     },
     "metadata": {},
     "output_type": "display_data"
    },
    {
     "name": "stdout",
     "output_type": "stream",
     "text": [
      "81\n"
     ]
    },
    {
     "data": {
      "application/vnd.jupyter.widget-view+json": {
       "model_id": "954872bbcc2041e991fddecd9d63d1dd",
       "version_major": 2,
       "version_minor": 0
      },
      "text/plain": [
       "  0%|          | 0/10 [00:00<?, ?it/s]"
      ]
     },
     "metadata": {},
     "output_type": "display_data"
    },
    {
     "name": "stdout",
     "output_type": "stream",
     "text": [
      "82\n"
     ]
    },
    {
     "data": {
      "application/vnd.jupyter.widget-view+json": {
       "model_id": "7cb4454ff7f64075a89867e652cf1ea5",
       "version_major": 2,
       "version_minor": 0
      },
      "text/plain": [
       "  0%|          | 0/10 [00:00<?, ?it/s]"
      ]
     },
     "metadata": {},
     "output_type": "display_data"
    },
    {
     "name": "stdout",
     "output_type": "stream",
     "text": [
      "83\n"
     ]
    },
    {
     "data": {
      "application/vnd.jupyter.widget-view+json": {
       "model_id": "e578792302b3481798f53769cce46ac8",
       "version_major": 2,
       "version_minor": 0
      },
      "text/plain": [
       "  0%|          | 0/10 [00:00<?, ?it/s]"
      ]
     },
     "metadata": {},
     "output_type": "display_data"
    },
    {
     "name": "stdout",
     "output_type": "stream",
     "text": [
      "84\n"
     ]
    },
    {
     "data": {
      "application/vnd.jupyter.widget-view+json": {
       "model_id": "cb5989c2987d49969c158b225e7522a7",
       "version_major": 2,
       "version_minor": 0
      },
      "text/plain": [
       "  0%|          | 0/10 [00:00<?, ?it/s]"
      ]
     },
     "metadata": {},
     "output_type": "display_data"
    },
    {
     "name": "stdout",
     "output_type": "stream",
     "text": [
      "85\n"
     ]
    },
    {
     "data": {
      "application/vnd.jupyter.widget-view+json": {
       "model_id": "5574dc7d3e714651b24032bef1f563d3",
       "version_major": 2,
       "version_minor": 0
      },
      "text/plain": [
       "  0%|          | 0/10 [00:00<?, ?it/s]"
      ]
     },
     "metadata": {},
     "output_type": "display_data"
    },
    {
     "name": "stdout",
     "output_type": "stream",
     "text": [
      "86\n"
     ]
    },
    {
     "data": {
      "application/vnd.jupyter.widget-view+json": {
       "model_id": "ab03e1d811074f8a8c781d8c3ae22e6a",
       "version_major": 2,
       "version_minor": 0
      },
      "text/plain": [
       "  0%|          | 0/10 [00:00<?, ?it/s]"
      ]
     },
     "metadata": {},
     "output_type": "display_data"
    },
    {
     "name": "stdout",
     "output_type": "stream",
     "text": [
      "87\n"
     ]
    },
    {
     "data": {
      "application/vnd.jupyter.widget-view+json": {
       "model_id": "631312e76e13441f98e5fe7ad2209650",
       "version_major": 2,
       "version_minor": 0
      },
      "text/plain": [
       "  0%|          | 0/10 [00:00<?, ?it/s]"
      ]
     },
     "metadata": {},
     "output_type": "display_data"
    },
    {
     "name": "stdout",
     "output_type": "stream",
     "text": [
      "88\n"
     ]
    },
    {
     "data": {
      "application/vnd.jupyter.widget-view+json": {
       "model_id": "352a3ff0e14c48a9872218809a31aff8",
       "version_major": 2,
       "version_minor": 0
      },
      "text/plain": [
       "  0%|          | 0/10 [00:00<?, ?it/s]"
      ]
     },
     "metadata": {},
     "output_type": "display_data"
    },
    {
     "name": "stdout",
     "output_type": "stream",
     "text": [
      "89\n"
     ]
    },
    {
     "data": {
      "application/vnd.jupyter.widget-view+json": {
       "model_id": "de9cb0d524ef4126a147f472505e157b",
       "version_major": 2,
       "version_minor": 0
      },
      "text/plain": [
       "  0%|          | 0/10 [00:00<?, ?it/s]"
      ]
     },
     "metadata": {},
     "output_type": "display_data"
    },
    {
     "name": "stdout",
     "output_type": "stream",
     "text": [
      "90\n"
     ]
    },
    {
     "data": {
      "application/vnd.jupyter.widget-view+json": {
       "model_id": "5e76c5ccbea9428b8a2099aafa599d9f",
       "version_major": 2,
       "version_minor": 0
      },
      "text/plain": [
       "  0%|          | 0/10 [00:00<?, ?it/s]"
      ]
     },
     "metadata": {},
     "output_type": "display_data"
    },
    {
     "name": "stdout",
     "output_type": "stream",
     "text": [
      "91\n"
     ]
    },
    {
     "data": {
      "application/vnd.jupyter.widget-view+json": {
       "model_id": "663a8232c48b474983a86af7ba7652d9",
       "version_major": 2,
       "version_minor": 0
      },
      "text/plain": [
       "  0%|          | 0/10 [00:00<?, ?it/s]"
      ]
     },
     "metadata": {},
     "output_type": "display_data"
    },
    {
     "name": "stdout",
     "output_type": "stream",
     "text": [
      "92\n"
     ]
    },
    {
     "data": {
      "application/vnd.jupyter.widget-view+json": {
       "model_id": "b87f38697660440d8c86ae9651300d3f",
       "version_major": 2,
       "version_minor": 0
      },
      "text/plain": [
       "  0%|          | 0/10 [00:00<?, ?it/s]"
      ]
     },
     "metadata": {},
     "output_type": "display_data"
    },
    {
     "name": "stdout",
     "output_type": "stream",
     "text": [
      "93\n"
     ]
    },
    {
     "data": {
      "application/vnd.jupyter.widget-view+json": {
       "model_id": "18a79149d27e4a338f097039d0f49da8",
       "version_major": 2,
       "version_minor": 0
      },
      "text/plain": [
       "  0%|          | 0/10 [00:00<?, ?it/s]"
      ]
     },
     "metadata": {},
     "output_type": "display_data"
    },
    {
     "name": "stdout",
     "output_type": "stream",
     "text": [
      "94\n"
     ]
    },
    {
     "data": {
      "application/vnd.jupyter.widget-view+json": {
       "model_id": "41c58ba3555f47c1b194c1ce939dfff8",
       "version_major": 2,
       "version_minor": 0
      },
      "text/plain": [
       "  0%|          | 0/10 [00:00<?, ?it/s]"
      ]
     },
     "metadata": {},
     "output_type": "display_data"
    },
    {
     "name": "stdout",
     "output_type": "stream",
     "text": [
      "95\n"
     ]
    },
    {
     "data": {
      "application/vnd.jupyter.widget-view+json": {
       "model_id": "a0d2d4e1bc9b42bfa320577911176bcd",
       "version_major": 2,
       "version_minor": 0
      },
      "text/plain": [
       "  0%|          | 0/10 [00:00<?, ?it/s]"
      ]
     },
     "metadata": {},
     "output_type": "display_data"
    },
    {
     "name": "stdout",
     "output_type": "stream",
     "text": [
      "96\n"
     ]
    },
    {
     "data": {
      "application/vnd.jupyter.widget-view+json": {
       "model_id": "e771bb7633bf4be6b128ed8709a1ef56",
       "version_major": 2,
       "version_minor": 0
      },
      "text/plain": [
       "  0%|          | 0/10 [00:00<?, ?it/s]"
      ]
     },
     "metadata": {},
     "output_type": "display_data"
    },
    {
     "name": "stdout",
     "output_type": "stream",
     "text": [
      "97\n"
     ]
    },
    {
     "data": {
      "application/vnd.jupyter.widget-view+json": {
       "model_id": "b5460cc22fe64426a69a9eea517ad9f6",
       "version_major": 2,
       "version_minor": 0
      },
      "text/plain": [
       "  0%|          | 0/10 [00:00<?, ?it/s]"
      ]
     },
     "metadata": {},
     "output_type": "display_data"
    },
    {
     "name": "stdout",
     "output_type": "stream",
     "text": [
      "98\n"
     ]
    },
    {
     "data": {
      "application/vnd.jupyter.widget-view+json": {
       "model_id": "6536e3205b624ac7a50a0d74519ce97f",
       "version_major": 2,
       "version_minor": 0
      },
      "text/plain": [
       "  0%|          | 0/10 [00:00<?, ?it/s]"
      ]
     },
     "metadata": {},
     "output_type": "display_data"
    },
    {
     "name": "stdout",
     "output_type": "stream",
     "text": [
      "99\n"
     ]
    },
    {
     "data": {
      "application/vnd.jupyter.widget-view+json": {
       "model_id": "b143e12f28964aed96bd3d0057479344",
       "version_major": 2,
       "version_minor": 0
      },
      "text/plain": [
       "  0%|          | 0/10 [00:00<?, ?it/s]"
      ]
     },
     "metadata": {},
     "output_type": "display_data"
    }
   ],
   "source": [
    "file=open(filename+'.csv','a')\n",
    "writer=csv.writer(file)\n",
    "xlocs=np.real(agentsposes)\n",
    "ylocs=np.imag(agentsposes)\n",
    "plt.figure()\n",
    "plt.gca().set_aspect(1)\n",
    "plotboundary(boundaryradius)\n",
    "plt.scatter(np.real(agentsposes),np.imag(agentsposes),c=range(numagents),cmap='gist_ncar',vmin=0,vmax=numagents)\n",
    "writer.writerow(list(agentsposes))\n",
    "writer.writerow(list(agentsdirs))\n",
    "for i in range(numagents):\n",
    "    dir=cmath.rect(1,agentsdirs[i])\n",
    "    plt.arrow(xlocs[i],ylocs[i],3*np.real(dir),3*np.imag(dir))\n",
    "plt.savefig(filename+'_'+str(0)+'.png',facecolor='white')\n",
    "plt.close()\n",
    "\n",
    "\n",
    "for time in range(num_timesteps):\n",
    "    agentsposesovertime=findposesovertime(agentsposes,agentsdirs,agentsvels,tau)\n",
    "    agentsposes=agentsposesovertime[0]\n",
    "    print(time)\n",
    "    chosenmoves=[]\n",
    "    @parfor(range(numagents))\n",
    "    def paragent(focal):\n",
    "        stateslists=[]\n",
    "        agentpos=agentsposes[focal]\n",
    "        agentdir=agentsdirs[focal]\n",
    "        agentvel=agentsvels[focal]\n",
    "        moveset=make_moveset(agentpos,agentdir,agentvel)\n",
    "        for move in moveset:\n",
    "            # evolvelist=evolve(agentpos,agentdir, focal, agentsposesovertime, move, 1,tau)\n",
    "            evolvelist=randevolve(numsamp,agentpos,agentdir,focal,agentsposesovertime,move,1,tau,[1/3]*3,[1/3]*3)\n",
    "            stateslists.append(evolvelist)\n",
    "        chosen=getbest(stateslists)\n",
    "        return moveset[chosen]\n",
    "    chosenmoves=paragent\n",
    "    for updateagent in range(numagents):\n",
    "        newpos=updatepos(agentsposes[updateagent],chosenmoves[updateagent][1],chosenmoves[updateagent][0])\n",
    "        if np.abs(newpos)>boundaryradius-agentradius:\n",
    "            newpos=agentsposes[updateagent]\n",
    "        agentsposes[updateagent]=newpos\n",
    "        agentsdirs[updateagent]=chosenmoves[updateagent][1]\n",
    "        agentsvels[updateagent]=chosenmoves[updateagent][0]\n",
    "    xlocs=np.real(agentsposes)\n",
    "    ylocs=np.imag(agentsposes)\n",
    "    writer.writerow(chosenmoves)\n",
    "    writer.writerow(list(agentsposes))\n",
    "    writer.writerow(list(agentsdirs))\n",
    "    plt.figure()\n",
    "    plotboundary(boundaryradius)\n",
    "    plt.gca().set_aspect(1)\n",
    "    plt.scatter(xlocs,ylocs,c=range(numagents),cmap='gist_ncar',vmin=0,vmax=numagents)\n",
    "    for i in range(numagents):\n",
    "        dir=cmath.rect(1,agentsdirs[i])\n",
    "        plt.arrow(xlocs[i],ylocs[i],3*np.real(dir),3*np.imag(dir))\n",
    "    plt.savefig(filename+'_'+str(time+201)+'.png',facecolor='white')\n",
    "    plt.close()\n",
    "file.close()"
   ]
  },
  {
   "cell_type": "code",
   "execution_count": 5,
   "id": "f58313ea-f73a-435e-a8f1-3fa86df3fb2b",
   "metadata": {},
   "outputs": [],
   "source": [
    "# import matplotlib\n",
    "# fig, ax = plt.subplots()\n",
    "# x=np.real(agentsposes)\n",
    "# y=np.imag(agentsposes)\n",
    "# plt.xlim(-40,40)\n",
    "# plt.ylim(-40,40)\n",
    "# plt.gca().set_aspect(1)\n",
    "# cmap = matplotlib.colormaps['tab10']\n",
    "# circles = [plt.Circle((xi,yi), radius=1,facecolor='green') for xi,yi in zip(x,y)]\n",
    "# # c = matplotlib.collections.PatchCollection(circles)\n",
    "# for i in range(len(circles)):\n",
    "#     circles[i].set_facecolor(cmap(i))\n",
    "#     ax.add_patch(circles[i])\n",
    "# for s in sensorborders:\n",
    "#     plt.plot([-40,40],np.tan(s+agentsdirs[0])*(np.array([-40,40])-np.real(agentsposes[0]))+np.imag(agentsposes[0]))\n",
    "# plt.plot([-40,40],np.tan(s+agentsdirs[0])*(np.array([-40,40])-np.real(agentsposes[0]))+np.imag(agentsposes[0]),'g')"
   ]
  },
  {
   "cell_type": "code",
   "execution_count": 5,
   "id": "f2896efd-ad9c-4d97-ba00-245c3520bc72",
   "metadata": {},
   "outputs": [
    {
     "data": {
      "text/plain": [
       "'./rand_evolve/10agentswallsense_50samp_20velp_20dirp825'"
      ]
     },
     "execution_count": 5,
     "metadata": {},
     "output_type": "execute_result"
    }
   ],
   "source": [
    "filename"
   ]
  },
  {
   "cell_type": "code",
   "execution_count": null,
   "id": "ec6e66c7-c024-4c73-baf9-700b16314175",
   "metadata": {},
   "outputs": [],
   "source": []
  }
 ],
 "metadata": {
  "kernelspec": {
   "display_name": "Python 3 (ipykernel)",
   "language": "python",
   "name": "python3"
  },
  "language_info": {
   "codemirror_mode": {
    "name": "ipython",
    "version": 3
   },
   "file_extension": ".py",
   "mimetype": "text/x-python",
   "name": "python",
   "nbconvert_exporter": "python",
   "pygments_lexer": "ipython3",
   "version": "3.10.12"
  }
 },
 "nbformat": 4,
 "nbformat_minor": 5
}
