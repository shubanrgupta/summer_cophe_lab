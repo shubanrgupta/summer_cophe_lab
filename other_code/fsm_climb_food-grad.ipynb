{
 "cells": [
  {
   "cell_type": "code",
   "execution_count": null,
   "id": "097099c3-5369-4e42-aa7b-9c44a44aea0f",
   "metadata": {},
   "outputs": [],
   "source": [
    "# Imports and Initializations\n",
    "\n",
    "import portion as P\n",
    "import numpy as np\n",
    "import matplotlib.pyplot as plt\n",
    "import cmath\n",
    "from parfor import parfor\n",
    "import csv\n",
    "filestart='./foodgrad/noise_2_10agents_startfarreverse_plusone_noisy'\n",
    "filename=filestart+str(np.random.randint(1000))"
   ]
  },
  {
   "cell_type": "code",
   "execution_count": null,
   "id": "17d9adb5-c665-4057-a4f8-fe635bd74027",
   "metadata": {},
   "outputs": [],
   "source": [
    "# Setting model parameters\n",
    "v0=2\n",
    "delv=1\n",
    "minvel=0\n",
    "maxvel=4\n",
    "deltheta=np.pi/8\n",
    "numagents=10\n",
    "tau=4\n",
    "agentradius=1\n",
    "boundaryradius=40000\n",
    "thresh=12\n",
    "numsensors=40\n",
    "num_timesteps=100\n",
    "\n",
    "numsamp=50\n",
    "\n",
    "# Initializing agents\n",
    "agentsposes=np.random.random(numagents)*20+np.random.random(numagents)*20j-10-10j\n",
    "agentsdirs=np.random.normal(scale=100*deltheta,size=numagents)%(2*np.pi)+1.25*np.pi\n",
    "agentsvels=v0*np.ones(numagents)\n",
    "# agentsposes=np.array([0,20],complex)\n",
    "# agentsdirs=np.array([0.5,0])\n",
    "# agentsvels=[v0,0]\n",
    "\n",
    "# functions related to sensors/boundaries\n",
    "nprect=np.vectorize(cmath.rect)\n",
    "# npphase=np.vectorize(cmath.phase)\n",
    "# agentsposes=nprect(np.abs(agentsposes),npphase(agentsposes)-1.25*np.pi)\n",
    "\n",
    "\n",
    "def distance_from_circular_boundary(agentpos):\n",
    "    return boundaryradius-np.abs(agentpos)\n",
    "\n",
    "def plotboundary(boundaryradius):\n",
    "    angles=np.linspace(0,2*np.pi,100)\n",
    "    plt.scatter(np.real(nprect(boundaryradius,angles)),np.imag(nprect(boundaryradius,angles)))\n",
    "\n",
    "def thetainterval(a,b):\n",
    "    if abs(b-a)>=2*np.pi:\n",
    "        return P.closed(0,2*np.pi)\n",
    "    a=a%(2*np.pi)\n",
    "    b=b%(2*np.pi)\n",
    "    if a<=b:\n",
    "        return P.closed(a,b)\n",
    "    else:\n",
    "        return P.closed(a,2*np.pi)|P.closed(0,b)\n",
    "\n",
    "sensorborders=np.linspace(0,2*np.pi,numsensors+1)\n",
    "halflensensor=np.pi/(1*numsensors)\n",
    "sensors=[]\n",
    "for sensor in range(numsensors):\n",
    "    sensors.append(thetainterval(sensorborders[sensor],sensorborders[sensor+1]))\n",
    "\n",
    "def foodfield(i):\n",
    "    # return 200*np.exp(-np.abs(i)/40)\n",
    "    return np.imag(i)\n",
    "\n",
    "def foodgrad(agentpos,agentdir):\n",
    "    agentback=agentpos-cmath.rect(agentradius/2,agentdir)\n",
    "    agentfront=agentpos+cmath.rect(agentradius/2,agentdir)\n",
    "    grad=foodfield(agentfront)-foodfield(agentback)+(np.random.normal(scale=2))\n",
    "    return grad"
   ]
  },
  {
   "cell_type": "code",
   "execution_count": null,
   "id": "9fc24ab6-f458-4a40-949b-231209804303",
   "metadata": {},
   "outputs": [],
   "source": [
    "def checkcollisions(agentpos,agent,othersposes): #checks for collisions with other agents\n",
    "    if numagents>1 and (((np.abs(np.delete(othersposes,agent)-agentpos)).min()<=2*agentradius) or (distance_from_circular_boundary(agentpos)<=1*agentradius)):\n",
    "        return True\n",
    "    elif numagents==1 and distance_from_circular_boundary(agentpos)<=1*agentradius:\n",
    "        return True\n",
    "    else:\n",
    "        return False\n",
    "\n",
    "    \n",
    "def updatepos(agentpos,agentdir,v):\n",
    "    return agentpos+cmath.rect(v,agentdir)\n",
    "\n",
    "def getstate(agentposdir, agent, othersposes,grad):\n",
    "    # return tuple([0]*numsensors+[grad])\n",
    "    stateout=[]\n",
    "    agentpos=agentposdir[0]\n",
    "    agentdir=agentposdir[1]\n",
    "    # sensorout=wallinterval(agentpos,agentdir,thresh)\n",
    "    sensorout=P.empty()\n",
    "    for others in range(numagents):\n",
    "        if others==agent:\n",
    "            continue\n",
    "        else:\n",
    "            disp=othersposes[others]-agentpos\n",
    "            radbydisp=agentradius/abs(disp)\n",
    "            halfsub=np.arcsin(radbydisp) if radbydisp<1 else np.pi/2\n",
    "            relthet=(cmath.phase(disp)-agentdir)            \n",
    "            sensorout=sensorout|thetainterval(relthet-halfsub,relthet+halfsub)\n",
    "    for sensor in sensors:\n",
    "        if intervallen(sensorout&sensor)>halflensensor:\n",
    "            stateout.append(1)\n",
    "        else:\n",
    "            stateout.append(0)\n",
    "    return tuple(stateout+[grad])\n",
    "\n",
    "\n",
    "def getbest(stateslists):\n",
    "    outs=[]\n",
    "    for statelist in stateslists:\n",
    "        statematrix=np.array(list(set(statelist)),int)\n",
    "        if statematrix.shape[0]==0:\n",
    "            score=-1\n",
    "        else:\n",
    "            gradmat=statematrix[:,-1]\n",
    "            statematrix=statematrix[:,:-1]\n",
    "            score=(((statematrix.shape[1]-statematrix@statematrix.T-(1-statematrix)@(1-statematrix).T).sum(axis=1)/(statematrix.shape[0])+1).flatten())@(maxvel*tau+1+(gradmat)).flatten()\n",
    "        outs.append(score)\n",
    "    return randargmax(np.array(outs))\n",
    "    \n",
    "def randargmax(b):\n",
    "    return np.random.choice(np.where(b == b.max())[0])\n",
    "    \n",
    "def intervallen(inter):\n",
    "    length=0\n",
    "    for i in inter:\n",
    "        length+=i.upper-i.lower\n",
    "    return length\n",
    "\n",
    "def findposesovertime(agentsposes,agentsdirs,agentsvels,tau):\n",
    "    posesovertime=[]\n",
    "    posesovertime.append(agentsposes)\n",
    "    newposes=agentsposes.copy()\n",
    "    newdirs=agentsdirs.copy()\n",
    "    for i in range(tau):\n",
    "        newposes=newposes+nprect(agentsvels,newdirs)\n",
    "        for agent in range(numagents):\n",
    "            newposes[agent],newdirs[agent]=reflect_circularwall(newposes[agent],newdirs[agent],0)\n",
    "        posesovertime.append(newposes.copy())\n",
    "    return posesovertime\n",
    "\n",
    "def reflect_circularwall(pos,dir,dep):\n",
    "    if distance_from_circular_boundary(pos)>1*agentradius:\n",
    "        return pos,dir\n",
    "    else:\n",
    "        xa,ya=np.real(pos),np.imag(pos)\n",
    "        if not(np.isclose(dir,np.pi/2) or np.isclose(dir,3*np.pi/2)):\n",
    "            a=1+(np.tan(dir))**2\n",
    "            b=-2*np.tan(dir)*(xa*np.tan(dir)-ya)\n",
    "            c=ya**2+(xa*np.tan(dir))**2-2*ya*xa*np.tan(dir)-(boundaryradius-1*agentradius)**2\n",
    "            x1=(-b-(b**2-4*a*c)**0.5)/(2*a)\n",
    "            y1=np.tan(dir)*(x1-xa)+ya\n",
    "            x2=(-b+(b**2-4*a*c)**0.5)/(2*a)\n",
    "            y2=np.tan(dir)*(x2-xa)+ya\n",
    "        else:\n",
    "            x1=xa\n",
    "            x2=xa\n",
    "            y1=((boundaryradius-1*agentradius)**2-xa**2)**0.5\n",
    "            y2=-y1\n",
    "        distances=np.array([(xa-x1)**2+(ya-y1)**2,(xa-x2)**2+(ya-y2)**2])\n",
    "        minind=np.argmin(distances)\n",
    "        xp,yp=[(x1,y1),(x2,y2)][minind]\n",
    "        distance=(distances[minind])**0.5\n",
    "        if dep<3:\n",
    "            newdir=(-1*dir+2*cmath.phase(xp+1j*yp)+np.pi)%(2*np.pi)\n",
    "        else:\n",
    "            newdir=(-1*dir+3*cmath.phase(xp+1j*yp)+(1)*np.pi)%(2*np.pi)\n",
    "        newpos=xp+1j*yp+cmath.rect(distance,newdir)\n",
    "        return reflect_circularwall(newpos,newdir,dep+1)\n",
    "\n",
    "def rightdiff(a,b):\n",
    "    if b>a:\n",
    "        return a+2*np.pi-b\n",
    "    else: return a-b\n",
    "\n",
    "def wallinterval(agentpos,agentdir,thresh):\n",
    "    dist=distance_from_circular_boundary(agentpos)\n",
    "    if dist>=thresh:\n",
    "        return P.empty()\n",
    "    else:\n",
    "        x0,y0=(np.real(agentpos),np.imag(agentpos))\n",
    "        R=boundaryradius\n",
    "        a=x0**2+y0**2\n",
    "        b=-1*x0*(a-thresh**2+R**2)\n",
    "        c=((a-thresh**2+R**2)/2)**2-(y0*R)**2\n",
    "        x1=(-b+(b**2-4*a*c)**0.5)/(2*a)\n",
    "        if np.isclose(y0,0):\n",
    "            if x0>0:\n",
    "                y1=-1*(R**2-x1**2)**0.5\n",
    "            else:\n",
    "                y1=1*(R**2-x1**2)**0.5\n",
    "        else:\n",
    "            y1=((a-thresh**2+R**2)/2-x1*x0)/y0\n",
    "\n",
    "        theta1=(cmath.phase(x1+y1*1j-agentpos))%(2*np.pi)\n",
    "        theta0=(cmath.phase(agentpos))%(2*np.pi)\n",
    "        deltheta=rightdiff(theta0,theta1) if (theta0<=np.pi or np.isclose(theta0,2*np.pi)) else -rightdiff(theta1,theta0)\n",
    "        if (theta0<=np.pi or np.isclose(theta0,2*np.pi)):\n",
    "            return thetainterval(theta1-agentdir,theta1+2*deltheta-agentdir)\n",
    "        else:\n",
    "            return thetainterval(theta1+2*deltheta-agentdir,theta1-agentdir)\n",
    "\n",
    "def make_moveset(agentpos,agentdir,v):\n",
    "    dircombs=[(agentdir+2*deltheta)%(2*np.pi),(agentdir+deltheta)%(2*np.pi),agentdir,(agentdir-deltheta)%(2*np.pi),(agentdir-2*deltheta)%(2*np.pi)]\n",
    "    tempvelcombs=[v-delv,v,v+delv]\n",
    "    velcombs=[]\n",
    "    for vel in tempvelcombs:\n",
    "        if vel>=minvel and vel<=maxvel:\n",
    "            velcombs.append(vel)\n",
    "    moveset=[]\n",
    "    for vel in velcombs:\n",
    "        for dir in dircombs:\n",
    "            moveset.append([vel,dir])\n",
    "    return moveset\n",
    "\n",
    "def randevolve(numsamp,agentpos,agentdir, agent, othersposesovertime, move, k,tau,velprobs,thetprobs,agentgrad):\n",
    "    #k is not used, can be removed\n",
    "    \n",
    "    ogdir=agentdir\n",
    "    ogpos=agentpos\n",
    "    v=move[0]\n",
    "    othersposes=othersposesovertime[1]\n",
    "    newagentdir=(move[1])%(2*np.pi)\n",
    "    newagentposdir=[updatepos(agentpos,newagentdir,v),newagentdir]\n",
    "    outposes=[]\n",
    "    if not(checkcollisions(newagentposdir[0],agent,othersposes)):\n",
    "        outposes.append(getstate(newagentposdir,agent,othersposes,(np.abs(newagentposdir[0]-ogpos))*np.sign(agentgrad*np.cos(newagentposdir[1]-ogdir))))\n",
    "        for samp in range(numsamp):\n",
    "            vel=v\n",
    "            pos,dir=newagentposdir\n",
    "            for t in range(2,tau+1):\n",
    "                newvel=vel+np.random.choice([0,-delv,delv],p=velprobs)\n",
    "                newdir=(dir+np.random.choice([0,-deltheta,deltheta,2*deltheta,-2*deltheta],p=thetprobs))%(2*np.pi)\n",
    "                if newvel>maxvel or newvel<minvel:\n",
    "                    newvel=vel\n",
    "                newpos=updatepos(pos,newdir,newvel)\n",
    "                if not(checkcollisions(newpos,agent,othersposesovertime[t])):\n",
    "                    pos=newpos\n",
    "                    dir=newdir\n",
    "                    vel=newvel\n",
    "                    outposes.append(getstate([pos,dir],agent,othersposesovertime[t],(np.abs(pos-ogpos))*np.sign(agentgrad*np.cos(dir-ogdir))))\n",
    "                else:\n",
    "                    break\n",
    "        return outposes            \n",
    "    else:\n",
    "        return []"
   ]
  },
  {
   "cell_type": "code",
   "execution_count": null,
   "id": "6d4a9563-99fa-4984-95d8-924860a6f416",
   "metadata": {
    "scrolled": true
   },
   "outputs": [],
   "source": [
    "file=open(filename+'.csv','a')\n",
    "writer=csv.writer(file)\n",
    "xlocs=np.real(agentsposes)\n",
    "ylocs=np.imag(agentsposes)\n",
    "plt.figure()\n",
    "plt.gca().set_aspect(1)\n",
    "# plotboundary(boundaryradius)\n",
    "plt.scatter(np.real(agentsposes),np.imag(agentsposes),c=range(numagents),cmap='gist_ncar',vmin=0,vmax=numagents)\n",
    "writer.writerow(list(agentsposes))\n",
    "writer.writerow(list(agentsdirs))\n",
    "for i in range(numagents):\n",
    "    dir=cmath.rect(1,agentsdirs[i])\n",
    "    plt.arrow(xlocs[i],ylocs[i],3*np.real(dir),3*np.imag(dir))\n",
    "plt.savefig(filename+'_'+str(0)+'.png',facecolor='white')\n",
    "plt.close()\n",
    "\n",
    "\n",
    "for time in range(num_timesteps):\n",
    "    agentsposesovertime=findposesovertime(agentsposes,agentsdirs,agentsvels,tau)\n",
    "    agentsposes=agentsposesovertime[0]\n",
    "    print(time)\n",
    "    chosenmoves=[]\n",
    "    @parfor(range(numagents))\n",
    "    def paragent(focal):\n",
    "        stateslists=[]\n",
    "        agentpos=agentsposes[focal]\n",
    "        agentdir=agentsdirs[focal]\n",
    "        agentvel=agentsvels[focal]\n",
    "        moveset=make_moveset(agentpos,agentdir,agentvel)\n",
    "        agentgrad=foodgrad(agentpos,agentdir)\n",
    "        for move in moveset:\n",
    "            evolvelist=randevolve(numsamp,agentpos,agentdir,focal,agentsposesovertime,move,1,tau,[1/3]*3,[1/5]*5,agentgrad)\n",
    "            stateslists.append(evolvelist)\n",
    "        chosen=getbest(stateslists)\n",
    "        return moveset[chosen]\n",
    "    chosenmoves=paragent\n",
    "    for updateagent in range(numagents):\n",
    "        newpos=updatepos(agentsposes[updateagent],chosenmoves[updateagent][1],chosenmoves[updateagent][0])\n",
    "        if np.abs(newpos)>boundaryradius-agentradius:\n",
    "            newpos=agentsposes[updateagent]\n",
    "        agentsposes[updateagent]=newpos\n",
    "        agentsdirs[updateagent]=chosenmoves[updateagent][1]\n",
    "        agentsvels[updateagent]=chosenmoves[updateagent][0]\n",
    "    xlocs=np.real(agentsposes)\n",
    "    ylocs=np.imag(agentsposes)\n",
    "    writer.writerow(chosenmoves)\n",
    "    writer.writerow(list(agentsposes))\n",
    "    writer.writerow(list(agentsdirs))\n",
    "    plt.figure()\n",
    "    # plotboundary(boundaryradius)\n",
    "    plt.gca().set_aspect(1)\n",
    "    plt.scatter(xlocs,ylocs,c=range(numagents),cmap='gist_ncar',vmin=0,vmax=numagents)\n",
    "    # plt.plot((0,5),(0,5))\n",
    "    for i in range(numagents):\n",
    "        dir=cmath.rect(1,agentsdirs[i])\n",
    "        plt.arrow(xlocs[i],ylocs[i],3*np.real(dir),3*np.imag(dir))\n",
    "    plt.savefig(filename+'_'+str(time+1)+'.png',facecolor='white')\n",
    "    plt.close()\n",
    "file.close()"
   ]
  },
  {
   "cell_type": "code",
   "execution_count": 5,
   "id": "f58313ea-f73a-435e-a8f1-3fa86df3fb2b",
   "metadata": {},
   "outputs": [],
   "source": [
    "# import matplotlib\n",
    "# fig, ax = plt.subplots()\n",
    "# x=np.real(agentsposes)\n",
    "# y=np.imag(agentsposes)\n",
    "# plt.xlim(-40,40)\n",
    "# plt.ylim(-40,40)\n",
    "# plt.gca().set_aspect(1)\n",
    "# cmap = matplotlib.colormaps['tab10']\n",
    "# circles = [plt.Circle((xi,yi), radius=1,facecolor='green') for xi,yi in zip(x,y)]\n",
    "# # c = matplotlib.collections.PatchCollection(circles)\n",
    "# for i in range(len(circles)):\n",
    "#     circles[i].set_facecolor(cmap(i))\n",
    "#     ax.add_patch(circles[i])\n",
    "# for s in sensorborders:\n",
    "#     plt.plot([-40,40],np.tan(s+agentsdirs[0])*(np.array([-40,40])-np.real(agentsposes[0]))+np.imag(agentsposes[0]))\n",
    "# plt.plot([-40,40],np.tan(s+agentsdirs[0])*(np.array([-40,40])-np.real(agentsposes[0]))+np.imag(agentsposes[0]),'g')"
   ]
  },
  {
   "cell_type": "code",
   "execution_count": 18,
   "id": "3604d474-dd77-428b-8087-65b8b8d9d168",
   "metadata": {},
   "outputs": [
    {
     "data": {
      "text/plain": [
       "(4,\n",
       " [0.0, 0.0, 0.0, 0.0, 0.0, 0.0, 0.0, 0.0, 0.0, 0.0, 0.0, 0.0, 0.0, 0.0, 0.0])"
      ]
     },
     "execution_count": 18,
     "metadata": {},
     "output_type": "execute_result"
    }
   ],
   "source": [
    "focal=0\n",
    "\n",
    "\n",
    "\n",
    "agentpos=(98.46301022030626+13.944881193539159j)\n",
    "agentdir=4.272828933\n",
    "agentvel=3\n",
    "agentgrad=foodgrad(agentpos,agentdir)\n",
    "moveset=make_moveset(agentpos,agentdir,agentvel)\n",
    "agentsposesovertime=findposesovertime(agentsposes,agentsdirs,agentsvels,tau)\n",
    "getbest([randevolve(numsamp,agentpos,agentdir,focal,agentsposesovertime,moveset[i],1,tau,[1/3]*3,[1/5]*5,agentgrad) for i in range(len(moveset))])"
   ]
  },
  {
   "cell_type": "code",
   "execution_count": 16,
   "id": "3fe7c8f1-bb8b-400a-95f8-f72b13a159ba",
   "metadata": {},
   "outputs": [
    {
     "data": {
      "text/plain": [
       "[(289.8150644422868, 0),\n",
       " (267.31506444228677, 1),\n",
       " (244.81506444228683, 2),\n",
       " (222.31506444228683, 3),\n",
       " (199.81506444228683, 4),\n",
       " (289.8150644422868, 5),\n",
       " (267.31506444228677, 6),\n",
       " (244.81506444228683, 7),\n",
       " (222.31506444228683, 8),\n",
       " (199.81506444228683, 9),\n",
       " (289.8150644422868, 10),\n",
       " (267.31506444228677, 11),\n",
       " (244.81506444228683, 12),\n",
       " (222.31506444228683, 13),\n",
       " (199.81506444228683, 14)]"
      ]
     },
     "execution_count": 16,
     "metadata": {},
     "output_type": "execute_result"
    }
   ],
   "source": [
    "[(moveset[i][1]*180/np.pi,i) for i in range(len(moveset))]"
   ]
  },
  {
   "cell_type": "code",
   "execution_count": 9,
   "id": "0915aa9e-5647-489b-94a6-366c575eed5d",
   "metadata": {},
   "outputs": [
    {
     "data": {
      "image/png": "[encoded data removed]",
      "text/plain": [
       "<Figure size 432x288 with 1 Axes>"
      ]
     },
     "metadata": {
      "needs_background": "light"
     },
     "output_type": "display_data"
    }
   ],
   "source": [
    "    xlocs=np.real(agentsposes)\n",
    "    ylocs=np.imag(agentsposes)\n",
    "    plt.gca().set_aspect(1)\n",
    "    plt.scatter(xlocs,ylocs,c=range(numagents),cmap='gist_ncar',vmin=0,vmax=numagents)\n",
    "    for i in range(numagents):\n",
    "        dir=cmath.rect(1,agentsdirs[i])\n",
    "        plt.arrow(xlocs[i],ylocs[i],3*np.real(dir),3*np.imag(dir))"
   ]
  },
  {
   "cell_type": "code",
   "execution_count": 17,
   "id": "950295a0-570b-4db5-9ff4-3d9afd22e440",
   "metadata": {},
   "outputs": [],
   "source": [
    "    agentpos=agentsposes[foc]\n",
    "    agentdir=agentsdirs[foc]\n",
    "    agentback=agentpos-cmath.rect(agentdir,agentradius/2)\n",
    "    agentfront=agentpos+cmath.rect(agentdir,agentradius/2)\n",
    "    grad=foodfield(agentfront)-foodfield(agentback)"
   ]
  },
  {
   "cell_type": "code",
   "execution_count": 19,
   "id": "ddb3cdce-52c9-4f61-92ae-49b3565401b1",
   "metadata": {},
   "outputs": [
    {
     "data": {
      "text/plain": [
       "((-58.98124807330445-76.48054240998893j),\n",
       " (-65.39722575760396-79.98560699370394j))"
      ]
     },
     "execution_count": 19,
     "metadata": {},
     "output_type": "execute_result"
    }
   ],
   "source": [
    "agentfront, agentback"
   ]
  },
  {
   "cell_type": "code",
   "execution_count": 1,
   "id": "be0870fd-9768-490d-961f-b91002126cbd",
   "metadata": {},
   "outputs": [],
   "source": [
    "from glob import glob\n",
    "import csv\n",
    "import matplotlib.pyplot as plt\n",
    "import numpy as np\n",
    "\n",
    "\n",
    "def getdata(globthing,ignorelen):\n",
    "    veldir=[]\n",
    "    lastpos=[]\n",
    "    listname=glob(globthing)\n",
    "    print(len(listname), 'files')\n",
    "    for filename in listname:\n",
    "        with open(filename,'r') as file:\n",
    "            data=list(csv.reader(file))\n",
    "        l1=[]\n",
    "        for i in data[2::3]:\n",
    "            l2=[]\n",
    "            for j in i:\n",
    "                l2.append(eval(j))\n",
    "            l1.append(l2)\n",
    "        veldir+=l1[ignorelen:]\n",
    "        lastpos+=data[-2]\n",
    "    veldir=sum(veldir,[])\n",
    "    veldir=np.array(veldir)\n",
    "    lastpos=np.array(lastpos).astype(complex)\n",
    "    return veldir,lastpos"
   ]
  },
  {
   "cell_type": "code",
   "execution_count": 3,
   "id": "b6ab0c7c-1d0b-4d05-bea4-c9e904333cce",
   "metadata": {},
   "outputs": [
    {
     "data": {
      "text/plain": [
       "(array([0.00750027, 0.05652985, 0.11389306, 0.15653352, 0.16083923,\n",
       "        0.18278448, 0.18014549, 0.15875582, 0.19472936, 0.03833474]),\n",
       " array([-3.99971825e+00, -3.19974758e+00, -2.39977691e+00, -1.59980624e+00,\n",
       "        -7.99835570e-01,  1.35100275e-04,  8.00105771e-01,  1.60007644e+00,\n",
       "         2.40004711e+00,  3.20001778e+00,  3.99998845e+00]),\n",
       " <BarContainer object of 10 artists>)"
      ]
     },
     "execution_count": 3,
     "metadata": {},
     "output_type": "execute_result"
    },
    {
     "data": {
      "image/png": "[encoded data removed]",
      "text/plain": [
       "<Figure size 432x288 with 1 Axes>"
      ]
     },
     "metadata": {
      "needs_background": "light"
     },
     "output_type": "display_data"
    }
   ],
   "source": [
    "plt.hist(inter[:,0]*np.sin(inter[:,1]),alpha=0.5,density=1)\n",
    "plt.hist(nointer[:,0]*np.sin(nointer[:,1]),alpha=0.5,density=1)"
   ]
  },
  {
   "cell_type": "code",
   "execution_count": 26,
   "id": "1be3974a-22c7-45f3-92a7-274c45a80bf2",
   "metadata": {},
   "outputs": [
    {
     "name": "stdout",
     "output_type": "stream",
     "text": [
      "10 files\n",
      "10 files\n"
     ]
    },
    {
     "data": {
      "image/png": "[encoded data removed]",
      "text/plain": [
       "<Figure size 432x288 with 1 Axes>"
      ]
     },
     "metadata": {
      "needs_background": "light"
     },
     "output_type": "display_data"
    }
   ],
   "source": [
    "plt.hist(np.imag(getdata('./foodgrad/noint*.csv',20)[1]),20,density=1,alpha=0.5,label='no interactions')\n",
    "plt.hist(np.imag(getdata('./foodgrad/nois*.csv',20)[1]),20,density=1,alpha=0.5,label='agents interact')\n",
    "plt.legend()\n",
    "plt.xlabel('Y-position after 100 time steps')\n",
    "plt.title('Histogram of Y-positions after 100 time-steps')\n",
    "plt.savefig('./illustrations/gradhist.png',facecolor='white',bbox_inches='tight',dpi=200)\n",
    "# plt.hist(np.imag(getdata('./foodgrad/lessturn_noint*.csv',20)[1]),20,density=1,alpha=0.5)\n",
    "# plt.hist(np.imag(getdata('./foodgrad/lessturn_nois*.csv',20)[1]),20,density=1,alpha=0.5)"
   ]
  },
  {
   "cell_type": "code",
   "execution_count": 22,
   "id": "8f19d203-3ed6-4ae1-9227-c1c2fde8f278",
   "metadata": {},
   "outputs": [
    {
     "name": "stdout",
     "output_type": "stream",
     "text": [
      "10 files\n",
      "10 files\n",
      "10 files\n",
      "10 files\n"
     ]
    },
    {
     "data": {
      "text/plain": [
       "[<matplotlib.lines.Line2D at 0x7f70566646d0>]"
      ]
     },
     "execution_count": 22,
     "metadata": {},
     "output_type": "execute_result"
    },
    {
     "data": {
      "image/png": "[encoded data removed]",
      "text/plain": [
       "<Figure size 432x288 with 1 Axes>"
      ]
     },
     "metadata": {
      "needs_background": "light"
     },
     "output_type": "display_data"
    }
   ],
   "source": [
    "plt.plot(np.sort(np.sin(getdata('./foodgrad/lessturn_noint*.csv',20)[0][:,1])*getdata('./foodgrad/lessturn_noint*.csv',20)[0][:,0]))\n",
    "plt.plot(np.sort(np.sin(getdata('./foodgrad/lessturn_nois*.csv',20)[0][:,1])*getdata('./foodgrad/lessturn_nois*.csv',20)[0][:,0]))"
   ]
  },
  {
   "cell_type": "code",
   "execution_count": 18,
   "id": "984b16fa-2f19-4914-ba4f-169ebbe23dc7",
   "metadata": {},
   "outputs": [
    {
     "name": "stdout",
     "output_type": "stream",
     "text": [
      "10 files\n"
     ]
    },
    {
     "data": {
      "text/plain": [
       "array([5.7679626 , 5.69773193, 0.00686351, ..., 1.1902556 , 0.61670029,\n",
       "       2.0766635 ])"
      ]
     },
     "execution_count": 18,
     "metadata": {},
     "output_type": "execute_result"
    }
   ],
   "source": [
    "getdata('./foodgrad/noint*.csv',20)[0][:,1]"
   ]
  },
  {
   "cell_type": "code",
   "execution_count": 132,
   "id": "ca708222-4b48-40df-8dba-4962e580ee63",
   "metadata": {},
   "outputs": [
    {
     "data": {
      "text/plain": [
       "(array([ 9.,  4.,  7.,  0.,  0.,  0., 12., 15., 43., 10.]),\n",
       " array([-1.73632515e+01, -8.16324859e-02,  1.71999866e+01,  3.44816056e+01,\n",
       "         5.17632247e+01,  6.90448437e+01,  8.63264628e+01,  1.03608082e+02,\n",
       "         1.20889701e+02,  1.38171320e+02,  1.55452939e+02]),\n",
       " <BarContainer object of 10 artists>)"
      ]
     },
     "execution_count": 132,
     "metadata": {},
     "output_type": "execute_result"
    },
    {
     "data": {
      "image/png": "[encoded data removed]",
      "text/plain": [
       "<Figure size 432x288 with 1 Axes>"
      ]
     },
     "metadata": {
      "needs_background": "light"
     },
     "output_type": "display_data"
    }
   ],
   "source": [
    "plt.hist(np.sort(np.imag(np.array(l3).astype(complex))),alpha=0.5)\n",
    "plt.hist(np.sort(np.imag(np.array(l4).astype(complex))),alpha=0.5)"
   ]
  },
  {
   "cell_type": "code",
   "execution_count": 130,
   "id": "8a6670e0-a300-4eaa-8013-a50b547cf539",
   "metadata": {},
   "outputs": [
    {
     "data": {
      "text/plain": [
       "99.13730416023844"
      ]
     },
     "execution_count": 130,
     "metadata": {},
     "output_type": "execute_result"
    }
   ],
   "source": [
    "np.sort(np.imag(np.array(l4).astype(complex))).mean()"
   ]
  },
  {
   "cell_type": "code",
   "execution_count": 20,
   "id": "731dc761-ab5a-4f7d-b2ed-072711e7dcc7",
   "metadata": {},
   "outputs": [],
   "source": [
    "l1=[]\n",
    "for i in data:\n",
    "    l2=[]\n",
    "    for j in i:\n",
    "        l2.append(eval(j))\n",
    "    l1.append(l2)"
   ]
  },
  {
   "cell_type": "code",
   "execution_count": 143,
   "id": "308b9c92-a3bb-44e6-b5b4-e754e9bde4f7",
   "metadata": {},
   "outputs": [
    {
     "data": {
      "text/plain": [
       "9000"
      ]
     },
     "execution_count": 143,
     "metadata": {},
     "output_type": "execute_result"
    }
   ],
   "source": [
    "len(l4)"
   ]
  },
  {
   "cell_type": "code",
   "execution_count": 112,
   "id": "96b49420-6a40-4e74-80e8-7739d4bf11f9",
   "metadata": {
    "scrolled": true
   },
   "outputs": [
    {
     "data": {
      "text/plain": [
       "<matplotlib.image.AxesImage at 0x7f7051d47940>"
      ]
     },
     "execution_count": 112,
     "metadata": {},
     "output_type": "execute_result"
    },
    {
     "data": {
      "image/png": "[encoded data removed]",
      "text/plain": [
       "<Figure size 432x288 with 1 Axes>"
      ]
     },
     "metadata": {
      "needs_background": "light"
     },
     "output_type": "display_data"
    }
   ],
   "source": [
    "xs=np.linspace(-100,100,10000)\n",
    "ys=np.linspace(-100,100,10000)\n",
    "plt.xticks(range(0,1100,100),range(-100,120,20))\n",
    "plt.yticks(range(0,1100,100),range(100,-120,-20))\n",
    "plt.imshow(z)\n",
    "\n"
   ]
  },
  {
   "cell_type": "code",
   "execution_count": 113,
   "id": "9eaa9e03-df2e-4a06-a860-1a9dd9396435",
   "metadata": {},
   "outputs": [],
   "source": [
    "x,y=np.meshgrid(xs,ys)"
   ]
  },
  {
   "cell_type": "code",
   "execution_count": 114,
   "id": "8fa4fa34-a5de-41fd-815d-a835ee8171bb",
   "metadata": {},
   "outputs": [],
   "source": [
    "z=y+np.random.normal(scale=2,size=y.shape)"
   ]
  },
  {
   "cell_type": "code",
   "execution_count": 109,
   "id": "813f61ab-4fe0-410c-a23f-3d02b4f17894",
   "metadata": {},
   "outputs": [
    {
     "data": {
      "text/plain": [
       "(1000, 1000)"
      ]
     },
     "execution_count": 109,
     "metadata": {},
     "output_type": "execute_result"
    }
   ],
   "source": [
    "z.shape"
   ]
  },
  {
   "cell_type": "code",
   "execution_count": 140,
   "id": "ed648810-2c67-42e5-8fc6-b2a24b76a91f",
   "metadata": {},
   "outputs": [],
   "source": [
    "ls=[]\n",
    "for k in range(100000):\n",
    "    xa=np.random.randint(990)\n",
    "    ya=np.random.randint(1000)\n",
    "    ls.append(z[xa+50,ya]-z[xa,ya])"
   ]
  },
  {
   "cell_type": "code",
   "execution_count": 141,
   "id": "e5f8ed76-fb22-44de-9cd5-a330568d6dba",
   "metadata": {},
   "outputs": [
    {
     "data": {
      "text/plain": [
       "(array([1.25095166e-03, 1.25095166e-03, 3.61386035e-03, 6.39375292e-03,\n",
       "        1.22315273e-02, 1.98762319e-02, 3.19687646e-02, 4.80921415e-02,\n",
       "        6.82463627e-02, 9.00685194e-02, 1.13697606e-01, 1.34268811e-01,\n",
       "        1.39828596e-01, 1.45249387e-01, 1.29681989e-01, 1.20925327e-01,\n",
       "        9.81302079e-02, 7.33891639e-02, 5.96286957e-02, 3.65555873e-02,\n",
       "        2.37680815e-02, 1.58453877e-02, 8.47867235e-03, 3.19687646e-03,\n",
       "        2.64089795e-03, 5.55978515e-04, 5.55978515e-04, 1.38994629e-04,\n",
       "        1.38994629e-04, 2.77989257e-04]),\n",
       " array([-8.40236913, -7.68291687, -6.96346461, -6.24401234, -5.52456008,\n",
       "        -4.80510782, -4.08565556, -3.3662033 , -2.64675103, -1.92729877,\n",
       "        -1.20784651, -0.48839425,  0.23105801,  0.95051027,  1.66996254,\n",
       "         2.3894148 ,  3.10886706,  3.82831932,  4.54777158,  5.26722385,\n",
       "         5.98667611,  6.70612837,  7.42558063,  8.14503289,  8.86448516,\n",
       "         9.58393742, 10.30338968, 11.02284194, 11.7422942 , 12.46174647,\n",
       "        13.18119873]),\n",
       " <BarContainer object of 30 artists>)"
      ]
     },
     "execution_count": 141,
     "metadata": {},
     "output_type": "execute_result"
    },
    {
     "data": {
      "image/png": "[encoded data removed]",
      "text/plain": [
       "<Figure size 432x288 with 1 Axes>"
      ]
     },
     "metadata": {
      "needs_background": "light"
     },
     "output_type": "display_data"
    }
   ],
   "source": [
    "plt.hist(ls,30,density=1)\n",
    "plt.hist(np.random.normal(1,size=10000,scale=2*2**0.5),30,density=1)"
   ]
  },
  {
   "cell_type": "code",
   "execution_count": 138,
   "id": "d5a243b5-fe12-41d1-bdf4-cd2b3eb6ce59",
   "metadata": {},
   "outputs": [
    {
     "data": {
      "text/plain": [
       "0.1451"
      ]
     },
     "execution_count": 138,
     "metadata": {},
     "output_type": "execute_result"
    }
   ],
   "source": [
    "(np.array(ls)<0).sum()/len(ls)"
   ]
  },
  {
   "cell_type": "code",
   "execution_count": 120,
   "id": "2b63e807-39ae-4ec4-a2cb-a3a0523e0b39",
   "metadata": {},
   "outputs": [
    {
     "data": {
      "text/plain": [
       "0.9952588257760472"
      ]
     },
     "execution_count": 120,
     "metadata": {},
     "output_type": "execute_result"
    }
   ],
   "source": [
    "sum(ls)/len(ls)"
   ]
  },
  {
   "cell_type": "code",
   "execution_count": 101,
   "id": "2c7e06b1-183a-4f4f-a2a4-31ef1e3dc3ec",
   "metadata": {},
   "outputs": [
    {
     "data": {
      "text/plain": [
       "(array([3.15328413e-05, 4.72992619e-04, 4.06773653e-03, 2.27667114e-02,\n",
       "        6.33494782e-02, 9.77833408e-02, 8.19853874e-02, 3.51275852e-02,\n",
       "        8.19853874e-03, 1.54510922e-03]),\n",
       " array([-17.06270494, -13.8914081 , -10.72011125,  -7.54881441,\n",
       "         -4.37751757,  -1.20622073,   1.96507611,   5.13637296,\n",
       "          8.3076698 ,  11.47896664,  14.65026348]),\n",
       " <BarContainer object of 10 artists>)"
      ]
     },
     "execution_count": 101,
     "metadata": {},
     "output_type": "execute_result"
    },
    {
     "data": {
      "image/png": "[encoded data removed]",
      "text/plain": [
       "<Figure size 432x288 with 1 Axes>"
      ]
     },
     "metadata": {
      "needs_background": "light"
     },
     "output_type": "display_data"
    }
   ],
   "source": [
    "plt.hist(np.random.normal(1,size=10000,scale=4),density=1)"
   ]
  },
  {
   "cell_type": "code",
   "execution_count": 139,
   "id": "187d02bc-32f1-439a-965a-34ed69655a08",
   "metadata": {},
   "outputs": [
    {
     "data": {
      "text/plain": [
       "2.8284271247461903"
      ]
     },
     "execution_count": 139,
     "metadata": {},
     "output_type": "execute_result"
    }
   ],
   "source": [
    "2*2**0.5"
   ]
  },
  {
   "cell_type": "code",
   "execution_count": 144,
   "id": "90a3d589-e8a7-49b1-a416-ee4b8c583a95",
   "metadata": {},
   "outputs": [
    {
     "data": {
      "text/plain": [
       "0.36183680491588155"
      ]
     },
     "execution_count": 144,
     "metadata": {},
     "output_type": "execute_result"
    }
   ],
   "source": [
    "import scipy\n",
    "scipy.stats.norm.cdf(0,loc=1,scale=2*2**0.5)"
   ]
  },
  {
   "cell_type": "code",
   "execution_count": 3,
   "id": "37e82ed8-8b7a-4a05-a992-c58fa2a580db",
   "metadata": {},
   "outputs": [],
   "source": [
    "import numpy as np\n",
    "k=np.array([[1,2,3,4]]).T"
   ]
  },
  {
   "cell_type": "code",
   "execution_count": 11,
   "id": "d75d8543-8848-4950-9fb9-095dc3926947",
   "metadata": {},
   "outputs": [],
   "source": [
    "k=k.reshape(-1,1)"
   ]
  },
  {
   "cell_type": "code",
   "execution_count": 12,
   "id": "ee8b16a7-7349-4b00-9680-128599f9e28f",
   "metadata": {},
   "outputs": [
    {
     "data": {
      "text/plain": [
       "array([[1],\n",
       "       [2],\n",
       "       [3],\n",
       "       [4]])"
      ]
     },
     "execution_count": 12,
     "metadata": {},
     "output_type": "execute_result"
    }
   ],
   "source": [
    "k"
   ]
  },
  {
   "cell_type": "code",
   "execution_count": 23,
   "id": "65b8d815-a8b7-40fc-97ea-f4dec79a09fc",
   "metadata": {},
   "outputs": [],
   "source": [
    "position=np.array([[1,2],[3,4],[5,6],[7,8]])\n",
    "x=position[:,0].reshape(-1,1)"
   ]
  },
  {
   "cell_type": "code",
   "execution_count": 24,
   "id": "cae2c316-1dc8-4e7d-b924-29468b4c46c0",
   "metadata": {},
   "outputs": [],
   "source": [
    "dx=x-x.T"
   ]
  },
  {
   "cell_type": "code",
   "execution_count": 25,
   "id": "3264b31c-5d7d-4bdf-a60c-e3289ff28edb",
   "metadata": {},
   "outputs": [],
   "source": [
    "L=5"
   ]
  },
  {
   "cell_type": "code",
   "execution_count": 32,
   "id": "a2a1a43c-6259-42a5-9e8c-58e8c2121011",
   "metadata": {},
   "outputs": [
    {
     "data": {
      "text/plain": [
       "array([[ 0., -2.,  1., -1.],\n",
       "       [ 2.,  0., -2.,  1.],\n",
       "       [-1.,  2.,  0., -2.],\n",
       "       [ 1., -1.,  2.,  0.]])"
      ]
     },
     "execution_count": 32,
     "metadata": {},
     "output_type": "execute_result"
    }
   ],
   "source": [
    "dx - np.round(dx / L) * L"
   ]
  },
  {
   "cell_type": "code",
   "execution_count": 31,
   "id": "784531cb-c9f1-4312-8a35-40bb0d027769",
   "metadata": {},
   "outputs": [
    {
     "data": {
      "text/plain": [
       "array([[ 0., -2.,  1., -1.],\n",
       "       [ 2.,  0., -2.,  1.],\n",
       "       [-1.,  2.,  0., -2.],\n",
       "       [ 1., -1.,  2.,  0.]])"
      ]
     },
     "execution_count": 31,
     "metadata": {},
     "output_type": "execute_result"
    }
   ],
   "source": [
    "dx-np.round(dx/L)*L"
   ]
  },
  {
   "cell_type": "code",
   "execution_count": 37,
   "id": "7aae0c5b-8fa1-471a-8dd8-2cc1b3dc96c3",
   "metadata": {},
   "outputs": [
    {
     "data": {
      "text/plain": [
       "array([ 0. ,  0.1,  0.2,  0.3,  0.4,  0.5,  0.6,  0.7,  0.8,  0.9,  1. ,\n",
       "        1.1,  1.2,  1.3,  1.4,  1.5,  1.6,  1.7,  1.8,  1.9,  2. ,  2.1,\n",
       "        2.2,  2.3,  2.4,  2.5, -2.4, -2.3, -2.2, -2.1, -2. , -1.9, -1.8,\n",
       "       -1.7, -1.6, -1.5, -1.4, -1.3, -1.2, -1.1, -1. , -0.9, -0.8, -0.7,\n",
       "       -0.6, -0.5, -0.4, -0.3, -0.2, -0.1,  0. ,  0.1,  0.2,  0.3,  0.4,\n",
       "        0.5,  0.6,  0.7,  0.8,  0.9,  1. ,  1.1,  1.2,  1.3,  1.4,  1.5,\n",
       "        1.6,  1.7,  1.8,  1.9,  2. ,  2.1,  2.2,  2.3,  2.4, -2.5, -2.4,\n",
       "       -2.3, -2.2, -2.1, -2. , -1.9, -1.8, -1.7, -1.6, -1.5, -1.4, -1.3,\n",
       "       -1.2, -1.1, -1. , -0.9, -0.8, -0.7, -0.6, -0.5, -0.4, -0.3, -0.2,\n",
       "       -0.1])"
      ]
     },
     "execution_count": 37,
     "metadata": {},
     "output_type": "execute_result"
    }
   ],
   "source": [
    "d=np.arange(0,10,0.1)\n",
    "d-np.round(d/L)*L"
   ]
  },
  {
   "cell_type": "code",
   "execution_count": 41,
   "id": "74b5da98-8e55-4b34-b912-6513c74ad943",
   "metadata": {},
   "outputs": [
    {
     "data": {
      "text/plain": [
       "(array([], dtype=int64), array([], dtype=int64))"
      ]
     },
     "execution_count": 41,
     "metadata": {},
     "output_type": "execute_result"
    }
   ],
   "source": [
    "np.where(np.array([[1,2,3],[1,2,3]])==4)"
   ]
  },
  {
   "cell_type": "code",
   "execution_count": null,
   "id": "a71bf043-e66f-4d84-b007-4fd02deab8ec",
   "metadata": {},
   "outputs": [],
   "source": []
  }
 ],
 "metadata": {
  "kernelspec": {
   "display_name": "Python 3 (ipykernel)",
   "language": "python",
   "name": "python3"
  },
  "language_info": {
   "codemirror_mode": {
    "name": "ipython",
    "version": 3
   },
   "file_extension": ".py",
   "mimetype": "text/x-python",
   "name": "python",
   "nbconvert_exporter": "python",
   "pygments_lexer": "ipython3",
   "version": "3.10.12"
  }
 },
 "nbformat": 4,
 "nbformat_minor": 5
}
