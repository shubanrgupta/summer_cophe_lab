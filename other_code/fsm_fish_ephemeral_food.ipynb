{
 "cells": [
  {
   "cell_type": "code",
   "execution_count": 1,
   "id": "097099c3-5369-4e42-aa7b-9c44a44aea0f",
   "metadata": {},
   "outputs": [],
   "source": [
    "# Imports and Initializations\n",
    "\n",
    "import portion as P\n",
    "import numpy as np\n",
    "import matplotlib.pyplot as plt\n",
    "import cmath\n",
    "from parfor import parfor\n",
    "import csv\n",
    "filestart='./food/newcomp_velch10agentswallblind_40samp_20velp_20dirp'\n",
    "filename=filestart+str(np.random.randint(1000))"
   ]
  },
  {
   "cell_type": "code",
   "execution_count": 2,
   "id": "17d9adb5-c665-4057-a4f8-fe635bd74027",
   "metadata": {},
   "outputs": [],
   "source": [
    "# Setting model parameters\n",
    "v0=2\n",
    "delv=1\n",
    "minvel=0\n",
    "maxvel=4\n",
    "deltheta=np.pi/8\n",
    "numagents=10\n",
    "tau=4\n",
    "agentradius=1\n",
    "boundaryradius=40\n",
    "thresh=12\n",
    "numsensors=40\n",
    "num_timesteps=270\n",
    "\n",
    "numsamp=50\n",
    "foodradius=3\n",
    "# Initializing agents\n",
    "startposes=np.random.random(numagents)*20+np.random.random(numagents)*20j-10-10j\n",
    "startdirs=np.random.normal(scale=1*deltheta,size=numagents)%(2*np.pi)+np.pi/4\n",
    "startvels=v0*np.ones(numagents)\n",
    "# agentsposes=np.array([0,20],complex)\n",
    "# agentsdirs=np.array([0.5,0])\n",
    "# agentsvels=[v0,0]\n",
    "\n",
    "# functions related to sensors/boundaries\n",
    "nprect=np.vectorize(cmath.rect)\n",
    "\n",
    "def distance_from_circular_boundary(agentpos):\n",
    "    return boundaryradius-np.abs(agentpos)\n",
    "\n",
    "def plotboundary(boundaryradius):\n",
    "    angles=np.linspace(0,2*np.pi,100)\n",
    "    plt.scatter(np.real(nprect(boundaryradius,angles)),np.imag(nprect(boundaryradius,angles)))\n",
    "\n",
    "def thetainterval(a,b):\n",
    "    if abs(b-a)>=2*np.pi:\n",
    "        return P.closed(0,2*np.pi)\n",
    "    a=a%(2*np.pi)\n",
    "    b=b%(2*np.pi)\n",
    "    if a<=b:\n",
    "        return P.closed(a,b)\n",
    "    else:\n",
    "        return P.closed(a,2*np.pi)|P.closed(0,b)\n",
    "\n",
    "sensorborders=np.linspace(0,2*np.pi,numsensors+1)\n",
    "halflensensor=np.pi/(1*numsensors)\n",
    "sensors=[]\n",
    "for sensor in range(numsensors):\n",
    "    sensors.append(thetainterval(sensorborders[sensor],sensorborders[sensor+1]))\n",
    "\n",
    "foodcone=thetainterval(2*np.pi-np.pi/3,np.pi/3)\n",
    "\n",
    "\n",
    "foodposes=[]\n",
    "randposes=[cmath.rect(((np.random.random())**0.5)*boundaryradius,np.random.random()*2*np.pi) if not((i+1)%3) else 'n' for i in range(num_timesteps//30)]\n",
    "# randposes=['n' for i in range(num_timesteps//20)]\n",
    "foodposes=[randposes[i//30] for i in range(num_timesteps)]\n",
    "# foodposes[:20]=['n']*20"
   ]
  },
  {
   "cell_type": "code",
   "execution_count": 3,
   "id": "9fc24ab6-f458-4a40-949b-231209804303",
   "metadata": {},
   "outputs": [],
   "source": [
    "# def evolve(agentpos,agentdir, agent, othersposesovertime, move, t,tau): # Returns accessible future states estimating states for tau-t future steps\n",
    "#     v=move[0]\n",
    "#     othersposes=othersposesovertime[t]\n",
    "#     newagentdir=(move[1])%(2*np.pi)\n",
    "#     newagentposdir=[updatepos(agentpos,newagentdir,v),newagentdir]\n",
    "#     if not(checkcollisions(newagentposdir[0],agent,othersposes)):\n",
    "#         if t==tau:\n",
    "#             return [getstate(newagentposdir,agent,othersposes)]\n",
    "#         return [getstate(newagentposdir,agent,othersposes)]+sum([evolve(newagentposdir[0],newagentposdir[1],agent,othersposesovertime,nextmove,t+1,tau) for nextmove in make_moveset(newagentposdir[0],newagentposdir[1],v)],[])\n",
    "#     else:\n",
    "#         return []\n",
    "\n",
    "\n",
    "def checkcollisions(agentpos,agent,othersposes): #checks for collisions with other agents\n",
    "    if numagents>1 and (((np.abs(np.delete(othersposes,agent)-agentpos)).min()<=2*agentradius) or (distance_from_circular_boundary(agentpos)<=1*agentradius)):\n",
    "        return True\n",
    "    elif numagents==1 and distance_from_circular_boundary(agentpos)<=1*agentradius:\n",
    "        return True\n",
    "    else:\n",
    "        return False\n",
    "\n",
    "    \n",
    "def updatepos(agentpos,agentdir,v):\n",
    "    return agentpos+cmath.rect(v,agentdir)\n",
    "\n",
    "def getstate(agentposdir, agent, othersposes,foodpos):\n",
    "    stateout=[]\n",
    "    agentpos=agentposdir[0]\n",
    "    agentdir=agentposdir[1]\n",
    "    seesfood=50*boundaryradius\n",
    "    # sensorout=wallinterval(agentpos,agentdir,thresh)\n",
    "    sensorout=P.empty()\n",
    "    for others in range(numagents):\n",
    "        if others==agent:\n",
    "            continue\n",
    "        else:\n",
    "            disp=othersposes[others]-agentpos\n",
    "            radbydisp=agentradius/abs(disp)\n",
    "            halfsub=np.arcsin(radbydisp) if radbydisp<1 else np.pi/2\n",
    "            relthet=(cmath.phase(disp)-agentdir)            \n",
    "            sensorout=sensorout|thetainterval(relthet-halfsub,relthet+halfsub)\n",
    "    if foodpos!='n':\n",
    "        disp=foodpos-agentpos\n",
    "        radbydisp=foodradius/abs(disp)\n",
    "        halfsub=np.arcsin(radbydisp) if radbydisp<1 else np.pi/2\n",
    "        relthet=(cmath.phase(disp)-agentdir)            \n",
    "        foodout=thetainterval(relthet-halfsub,relthet+halfsub)\n",
    "        if not(((foodout & ~sensorout)&foodcone).empty):\n",
    "            seesfood=np.abs(disp)\n",
    "        if np.abs(foodpos-agentposdir[0])<foodradius:\n",
    "            seesfood=0\n",
    "    for sensor in sensors:\n",
    "        if intervallen(sensorout&sensor)>halflensensor:\n",
    "            stateout.append(1)\n",
    "        else:\n",
    "            stateout.append(0)\n",
    "    return tuple(stateout+[seesfood])\n",
    "\n",
    "def getbest(stateslists):\n",
    "    outs=[]\n",
    "    for statelist in stateslists:\n",
    "        statematrix=np.array(list(set(statelist)),int)\n",
    "        if statematrix.shape[0]==0:\n",
    "            score=-1\n",
    "        else:\n",
    "            foodmatrix=1/(0.1+statematrix[:,-1])**2\n",
    "            statematrix=statematrix[:,:-1]\n",
    "            score=((statematrix.shape[1]-statematrix@statematrix.T-(1-statematrix)@(1-statematrix).T).sum(axis=1)/(statematrix.shape[0])).flatten()@foodmatrix\n",
    "        outs.append(score)\n",
    "    return randargmax(np.array(outs))\n",
    "    \n",
    "def randargmax(b):\n",
    "    return np.random.choice(np.where(b == b.max())[0])\n",
    "\n",
    "def intervallen(inter):\n",
    "    length=0\n",
    "    for i in inter:\n",
    "        length+=i.upper-i.lower\n",
    "    return length\n",
    "\n",
    "def findposesovertime(agentsposes,agentsdirs,agentsvels,tau):\n",
    "    posesovertime=[]\n",
    "    posesovertime.append(agentsposes)\n",
    "    newposes=agentsposes.copy()\n",
    "    newdirs=agentsdirs.copy()\n",
    "    for i in range(tau):\n",
    "        newposes=newposes+nprect(agentsvels,newdirs)\n",
    "        for agent in range(numagents):\n",
    "            newposes[agent],newdirs[agent]=reflect_circularwall(newposes[agent],newdirs[agent],0)\n",
    "        posesovertime.append(newposes.copy())\n",
    "    return posesovertime\n",
    "\n",
    "def reflect_circularwall(pos,dir,dep):\n",
    "    if distance_from_circular_boundary(pos)>1*agentradius:\n",
    "        return pos,dir\n",
    "    else:\n",
    "        xa,ya=np.real(pos),np.imag(pos)\n",
    "        if not(np.isclose(dir,np.pi/2) or np.isclose(dir,3*np.pi/2)):\n",
    "            a=1+(np.tan(dir))**2\n",
    "            b=-2*np.tan(dir)*(xa*np.tan(dir)-ya)\n",
    "            c=ya**2+(xa*np.tan(dir))**2-2*ya*xa*np.tan(dir)-(boundaryradius-1*agentradius)**2\n",
    "            x1=(-b-(b**2-4*a*c)**0.5)/(2*a)\n",
    "            y1=np.tan(dir)*(x1-xa)+ya\n",
    "            x2=(-b+(b**2-4*a*c)**0.5)/(2*a)\n",
    "            y2=np.tan(dir)*(x2-xa)+ya\n",
    "        else:\n",
    "            x1=xa\n",
    "            x2=xa\n",
    "            y1=((boundaryradius-1*agentradius)**2-xa**2)**0.5\n",
    "            y2=-y1\n",
    "        distances=np.array([(xa-x1)**2+(ya-y1)**2,(xa-x2)**2+(ya-y2)**2])\n",
    "        minind=np.argmin(distances)\n",
    "        xp,yp=[(x1,y1),(x2,y2)][minind]\n",
    "        distance=(distances[minind])**0.5\n",
    "        if dep<3:\n",
    "            newdir=(-1*dir+2*cmath.phase(xp+1j*yp)+np.pi)%(2*np.pi)\n",
    "        else:\n",
    "            newdir=(-1*dir+3*cmath.phase(xp+1j*yp)+(1)*np.pi)%(2*np.pi)\n",
    "        newpos=xp+1j*yp+cmath.rect(distance,newdir)\n",
    "        return reflect_circularwall(newpos,newdir,dep+1)\n",
    "\n",
    "def rightdiff(a,b):\n",
    "    if b>a:\n",
    "        return a+2*np.pi-b\n",
    "    else: return a-b\n",
    "\n",
    "def wallinterval(agentpos,agentdir,thresh):\n",
    "    dist=distance_from_circular_boundary(agentpos)\n",
    "    if dist>=thresh:\n",
    "        return P.empty()\n",
    "    else:\n",
    "        x0,y0=(np.real(agentpos),np.imag(agentpos))\n",
    "        R=boundaryradius\n",
    "        a=x0**2+y0**2\n",
    "        b=-1*x0*(a-thresh**2+R**2)\n",
    "        c=((a-thresh**2+R**2)/2)**2-(y0*R)**2\n",
    "        x1=(-b+(b**2-4*a*c)**0.5)/(2*a)\n",
    "        if np.isclose(y0,0):\n",
    "            if x0>0:\n",
    "                y1=-1*(R**2-x1**2)**0.5\n",
    "            else:\n",
    "                y1=1*(R**2-x1**2)**0.5\n",
    "        else:\n",
    "            y1=((a-thresh**2+R**2)/2-x1*x0)/y0\n",
    "\n",
    "        theta1=(cmath.phase(x1+y1*1j-agentpos))%(2*np.pi)\n",
    "        theta0=(cmath.phase(agentpos))%(2*np.pi)\n",
    "        deltheta=rightdiff(theta0,theta1) if (theta0<=np.pi or np.isclose(theta0,2*np.pi)) else -rightdiff(theta1,theta0)\n",
    "        if (theta0<=np.pi or np.isclose(theta0,2*np.pi)):\n",
    "            return thetainterval(theta1-agentdir,theta1+2*deltheta-agentdir)\n",
    "        else:\n",
    "            return thetainterval(theta1+2*deltheta-agentdir,theta1-agentdir)\n",
    "\n",
    "def make_moveset(agentpos,agentdir,v):\n",
    "    dircombs=[(agentdir+deltheta)%(2*np.pi),agentdir,(agentdir-deltheta)%(2*np.pi)]\n",
    "    tempvelcombs=[v-delv,v,v+delv]\n",
    "    velcombs=[]\n",
    "    for vel in tempvelcombs:\n",
    "        if vel>=minvel and vel<=maxvel:\n",
    "            velcombs.append(vel)\n",
    "    moveset=[]\n",
    "    for vel in velcombs:\n",
    "        for dir in dircombs:\n",
    "            moveset.append([vel,dir])\n",
    "    return moveset\n",
    "    # return [[v0,(agentdir+deltheta*i)%(2*np.pi)] for i in range(-2,3)]\n",
    "\n",
    "def randevolve(numsamp,agentpos,agentdir, agent, othersposesovertime, move, k,tau,velprobs,thetprobs,foodpos):\n",
    "    #k is not used, can be removed\n",
    "    v=move[0]\n",
    "    othersposes=othersposesovertime[1]\n",
    "    newagentdir=(move[1])%(2*np.pi)\n",
    "    newagentposdir=[updatepos(agentpos,newagentdir,v),newagentdir]\n",
    "    outposes=[]\n",
    "    if getstate(newagentposdir,agent,othersposes,foodpos)[-1]>=3*boundaryradius:\n",
    "        foodpos='n'\n",
    "    if not(checkcollisions(newagentposdir[0],agent,othersposes)):\n",
    "        outposes.append(getstate(newagentposdir,agent,othersposes,foodpos))\n",
    "        for samp in range(numsamp):\n",
    "            vel=v\n",
    "            pos,dir=newagentposdir\n",
    "            for t in range(2,tau+1):\n",
    "                newvel=vel+np.random.choice([0,-delv,delv],p=velprobs)\n",
    "                # newvel=v0\n",
    "                newdir=(dir+np.random.choice([0,-deltheta,deltheta],p=thetprobs))%(2*np.pi)\n",
    "                # newdir=(dir+np.random.choice([0,-deltheta,deltheta,-2*deltheta,2*deltheta],p=thetprobs))%(2*np.pi)\n",
    "                if newvel>maxvel or newvel<minvel:\n",
    "                    newvel=vel\n",
    "                newpos=updatepos(pos,newdir,newvel)\n",
    "                if not(checkcollisions(newpos,agent,othersposesovertime[t])):\n",
    "                    pos=newpos\n",
    "                    dir=newdir\n",
    "                    vel=newvel\n",
    "                    tempstate=getstate([pos,dir],agent,othersposesovertime[t],foodpos)\n",
    "                    outposes.append(tempstate)\n",
    "                    # if t!=tau:\n",
    "                    #     outposes.append(tempstate)\n",
    "                    # elif tempstate[-1]!=boundaryradius*10:\n",
    "                    #     outposes.append(tempstate)\n",
    "                    #     for k in range(2):\n",
    "                    #         newvel=vel+np.random.choice([0,-delv,delv],p=velprobs)\n",
    "                    #         newdir=dir+np.random.choice([0,-deltheta,deltheta],p=thetprobs)\n",
    "                    #         if newvel>maxvel or newvel<minvel:\n",
    "                    #             newvel=vel\n",
    "                    #         newpos=updatepos(pos,newdir,newvel)\n",
    "                    #         if not(checkcollisions(newpos,agent,othersposesovertime[t])):\n",
    "                    #             pos=newpos\n",
    "                    #             dir=newdir\n",
    "                    #             vel=newvel\n",
    "                    #             tempstate=getstate([pos,dir],agent,othersposesovertime[t],foodpos)\n",
    "                    #             outposes.append(tempstate)\n",
    "                    #         else:\n",
    "                    #             break\n",
    "                    # else:\n",
    "                    #     outposes.append(tempstate) \n",
    "                else:\n",
    "                    break\n",
    "        return outposes            \n",
    "    else:\n",
    "        return []"
   ]
  },
  {
   "cell_type": "code",
   "execution_count": null,
   "id": "6d4a9563-99fa-4984-95d8-924860a6f416",
   "metadata": {
    "scrolled": true
   },
   "outputs": [
    {
     "name": "stdout",
     "output_type": "stream",
     "text": [
      "0\n"
     ]
    },
    {
     "data": {
      "application/vnd.jupyter.widget-view+json": {
       "model_id": "b56929de76554c15837164e73bb0193b",
       "version_major": 2,
       "version_minor": 0
      },
      "text/plain": [
       "  0%|          | 0/10 [00:00<?, ?it/s]"
      ]
     },
     "metadata": {},
     "output_type": "display_data"
    },
    {
     "name": "stdout",
     "output_type": "stream",
     "text": [
      "1\n"
     ]
    },
    {
     "data": {
      "application/vnd.jupyter.widget-view+json": {
       "model_id": "fc9ab48366554cadacca92c645105e6a",
       "version_major": 2,
       "version_minor": 0
      },
      "text/plain": [
       "  0%|          | 0/10 [00:00<?, ?it/s]"
      ]
     },
     "metadata": {},
     "output_type": "display_data"
    },
    {
     "name": "stdout",
     "output_type": "stream",
     "text": [
      "2\n"
     ]
    },
    {
     "data": {
      "application/vnd.jupyter.widget-view+json": {
       "model_id": "0da61e5948e948399f1dd64f392207c9",
       "version_major": 2,
       "version_minor": 0
      },
      "text/plain": [
       "  0%|          | 0/10 [00:00<?, ?it/s]"
      ]
     },
     "metadata": {},
     "output_type": "display_data"
    },
    {
     "name": "stdout",
     "output_type": "stream",
     "text": [
      "3\n"
     ]
    },
    {
     "data": {
      "application/vnd.jupyter.widget-view+json": {
       "model_id": "e13ae8793a87462fa71ac513f1ef68a9",
       "version_major": 2,
       "version_minor": 0
      },
      "text/plain": [
       "  0%|          | 0/10 [00:00<?, ?it/s]"
      ]
     },
     "metadata": {},
     "output_type": "display_data"
    },
    {
     "name": "stdout",
     "output_type": "stream",
     "text": [
      "4\n"
     ]
    },
    {
     "data": {
      "application/vnd.jupyter.widget-view+json": {
       "model_id": "f69dc70c5ed54253a381e3d9c81fae3a",
       "version_major": 2,
       "version_minor": 0
      },
      "text/plain": [
       "  0%|          | 0/10 [00:00<?, ?it/s]"
      ]
     },
     "metadata": {},
     "output_type": "display_data"
    },
    {
     "name": "stdout",
     "output_type": "stream",
     "text": [
      "5\n"
     ]
    },
    {
     "data": {
      "application/vnd.jupyter.widget-view+json": {
       "model_id": "33fa49cb5c624a0c83ab3be9f3931df9",
       "version_major": 2,
       "version_minor": 0
      },
      "text/plain": [
       "  0%|          | 0/10 [00:00<?, ?it/s]"
      ]
     },
     "metadata": {},
     "output_type": "display_data"
    },
    {
     "name": "stdout",
     "output_type": "stream",
     "text": [
      "6\n"
     ]
    },
    {
     "data": {
      "application/vnd.jupyter.widget-view+json": {
       "model_id": "c74015d349b24a379af9cbc0d2b6172a",
       "version_major": 2,
       "version_minor": 0
      },
      "text/plain": [
       "  0%|          | 0/10 [00:00<?, ?it/s]"
      ]
     },
     "metadata": {},
     "output_type": "display_data"
    },
    {
     "name": "stdout",
     "output_type": "stream",
     "text": [
      "7\n"
     ]
    },
    {
     "data": {
      "application/vnd.jupyter.widget-view+json": {
       "model_id": "eedd5506864543e9acf3dc221ea6e585",
       "version_major": 2,
       "version_minor": 0
      },
      "text/plain": [
       "  0%|          | 0/10 [00:00<?, ?it/s]"
      ]
     },
     "metadata": {},
     "output_type": "display_data"
    },
    {
     "name": "stdout",
     "output_type": "stream",
     "text": [
      "8\n"
     ]
    },
    {
     "data": {
      "application/vnd.jupyter.widget-view+json": {
       "model_id": "43a7eb3ede3343e3a1301fcc93bec911",
       "version_major": 2,
       "version_minor": 0
      },
      "text/plain": [
       "  0%|          | 0/10 [00:00<?, ?it/s]"
      ]
     },
     "metadata": {},
     "output_type": "display_data"
    },
    {
     "name": "stdout",
     "output_type": "stream",
     "text": [
      "9\n"
     ]
    },
    {
     "data": {
      "application/vnd.jupyter.widget-view+json": {
       "model_id": "3a4cef176d3540c0a6bf466c1260158e",
       "version_major": 2,
       "version_minor": 0
      },
      "text/plain": [
       "  0%|          | 0/10 [00:00<?, ?it/s]"
      ]
     },
     "metadata": {},
     "output_type": "display_data"
    },
    {
     "name": "stdout",
     "output_type": "stream",
     "text": [
      "10\n"
     ]
    },
    {
     "data": {
      "application/vnd.jupyter.widget-view+json": {
       "model_id": "433a9f189d984caea8d51608c19d96d8",
       "version_major": 2,
       "version_minor": 0
      },
      "text/plain": [
       "  0%|          | 0/10 [00:00<?, ?it/s]"
      ]
     },
     "metadata": {},
     "output_type": "display_data"
    },
    {
     "name": "stdout",
     "output_type": "stream",
     "text": [
      "11\n"
     ]
    },
    {
     "data": {
      "application/vnd.jupyter.widget-view+json": {
       "model_id": "c675b02bb88c469cbdfa1154174c92c8",
       "version_major": 2,
       "version_minor": 0
      },
      "text/plain": [
       "  0%|          | 0/10 [00:00<?, ?it/s]"
      ]
     },
     "metadata": {},
     "output_type": "display_data"
    },
    {
     "name": "stdout",
     "output_type": "stream",
     "text": [
      "12\n"
     ]
    },
    {
     "data": {
      "application/vnd.jupyter.widget-view+json": {
       "model_id": "8ca74dddf34340b79d579d80769c2be2",
       "version_major": 2,
       "version_minor": 0
      },
      "text/plain": [
       "  0%|          | 0/10 [00:00<?, ?it/s]"
      ]
     },
     "metadata": {},
     "output_type": "display_data"
    },
    {
     "name": "stdout",
     "output_type": "stream",
     "text": [
      "13\n"
     ]
    },
    {
     "data": {
      "application/vnd.jupyter.widget-view+json": {
       "model_id": "004ee9d4893e476ca1955d4fa0f5db92",
       "version_major": 2,
       "version_minor": 0
      },
      "text/plain": [
       "  0%|          | 0/10 [00:00<?, ?it/s]"
      ]
     },
     "metadata": {},
     "output_type": "display_data"
    },
    {
     "name": "stdout",
     "output_type": "stream",
     "text": [
      "14\n"
     ]
    },
    {
     "data": {
      "application/vnd.jupyter.widget-view+json": {
       "model_id": "e3de4857c4834fb8b900c37e3b448e8d",
       "version_major": 2,
       "version_minor": 0
      },
      "text/plain": [
       "  0%|          | 0/10 [00:00<?, ?it/s]"
      ]
     },
     "metadata": {},
     "output_type": "display_data"
    },
    {
     "name": "stdout",
     "output_type": "stream",
     "text": [
      "15\n"
     ]
    },
    {
     "data": {
      "application/vnd.jupyter.widget-view+json": {
       "model_id": "f27fe5f489f34acfa44a64d3e6fc51d6",
       "version_major": 2,
       "version_minor": 0
      },
      "text/plain": [
       "  0%|          | 0/10 [00:00<?, ?it/s]"
      ]
     },
     "metadata": {},
     "output_type": "display_data"
    },
    {
     "name": "stdout",
     "output_type": "stream",
     "text": [
      "16\n"
     ]
    },
    {
     "data": {
      "application/vnd.jupyter.widget-view+json": {
       "model_id": "a433c12e8e6e42848bbd868f07b6c86d",
       "version_major": 2,
       "version_minor": 0
      },
      "text/plain": [
       "  0%|          | 0/10 [00:00<?, ?it/s]"
      ]
     },
     "metadata": {},
     "output_type": "display_data"
    },
    {
     "name": "stdout",
     "output_type": "stream",
     "text": [
      "17\n"
     ]
    },
    {
     "data": {
      "application/vnd.jupyter.widget-view+json": {
       "model_id": "9d3cf372c1b54b148bc4384a2f4a44ba",
       "version_major": 2,
       "version_minor": 0
      },
      "text/plain": [
       "  0%|          | 0/10 [00:00<?, ?it/s]"
      ]
     },
     "metadata": {},
     "output_type": "display_data"
    },
    {
     "name": "stdout",
     "output_type": "stream",
     "text": [
      "18\n"
     ]
    },
    {
     "data": {
      "application/vnd.jupyter.widget-view+json": {
       "model_id": "f34b52fea8aa44d0803520ed3d68970a",
       "version_major": 2,
       "version_minor": 0
      },
      "text/plain": [
       "  0%|          | 0/10 [00:00<?, ?it/s]"
      ]
     },
     "metadata": {},
     "output_type": "display_data"
    },
    {
     "name": "stdout",
     "output_type": "stream",
     "text": [
      "19\n"
     ]
    },
    {
     "data": {
      "application/vnd.jupyter.widget-view+json": {
       "model_id": "b540c9b696fe4df2b43f33b17b8d35c3",
       "version_major": 2,
       "version_minor": 0
      },
      "text/plain": [
       "  0%|          | 0/10 [00:00<?, ?it/s]"
      ]
     },
     "metadata": {},
     "output_type": "display_data"
    },
    {
     "name": "stdout",
     "output_type": "stream",
     "text": [
      "20\n"
     ]
    },
    {
     "data": {
      "application/vnd.jupyter.widget-view+json": {
       "model_id": "69bf05eb6e2f4cea83a6bda19f741f97",
       "version_major": 2,
       "version_minor": 0
      },
      "text/plain": [
       "  0%|          | 0/10 [00:00<?, ?it/s]"
      ]
     },
     "metadata": {},
     "output_type": "display_data"
    },
    {
     "name": "stdout",
     "output_type": "stream",
     "text": [
      "21\n"
     ]
    },
    {
     "data": {
      "application/vnd.jupyter.widget-view+json": {
       "model_id": "c49881f911e14d5e936d8ff600647542",
       "version_major": 2,
       "version_minor": 0
      },
      "text/plain": [
       "  0%|          | 0/10 [00:00<?, ?it/s]"
      ]
     },
     "metadata": {},
     "output_type": "display_data"
    },
    {
     "name": "stdout",
     "output_type": "stream",
     "text": [
      "22\n"
     ]
    },
    {
     "data": {
      "application/vnd.jupyter.widget-view+json": {
       "model_id": "552a335b0ef74a8dad503406e66d5eb1",
       "version_major": 2,
       "version_minor": 0
      },
      "text/plain": [
       "  0%|          | 0/10 [00:00<?, ?it/s]"
      ]
     },
     "metadata": {},
     "output_type": "display_data"
    },
    {
     "name": "stdout",
     "output_type": "stream",
     "text": [
      "23\n"
     ]
    },
    {
     "data": {
      "application/vnd.jupyter.widget-view+json": {
       "model_id": "d576815bd6624dc59f0b527dae160eda",
       "version_major": 2,
       "version_minor": 0
      },
      "text/plain": [
       "  0%|          | 0/10 [00:00<?, ?it/s]"
      ]
     },
     "metadata": {},
     "output_type": "display_data"
    },
    {
     "name": "stdout",
     "output_type": "stream",
     "text": [
      "24\n"
     ]
    },
    {
     "data": {
      "application/vnd.jupyter.widget-view+json": {
       "model_id": "cade64a7135942a2b105cef2e796e92b",
       "version_major": 2,
       "version_minor": 0
      },
      "text/plain": [
       "  0%|          | 0/10 [00:00<?, ?it/s]"
      ]
     },
     "metadata": {},
     "output_type": "display_data"
    },
    {
     "name": "stdout",
     "output_type": "stream",
     "text": [
      "25\n"
     ]
    },
    {
     "data": {
      "application/vnd.jupyter.widget-view+json": {
       "model_id": "b35b3349806a4111bfcb39f9d7d1d410",
       "version_major": 2,
       "version_minor": 0
      },
      "text/plain": [
       "  0%|          | 0/10 [00:00<?, ?it/s]"
      ]
     },
     "metadata": {},
     "output_type": "display_data"
    },
    {
     "name": "stdout",
     "output_type": "stream",
     "text": [
      "26\n"
     ]
    },
    {
     "data": {
      "application/vnd.jupyter.widget-view+json": {
       "model_id": "d7a716c28edd46ebb1cf68bb5eb277fc",
       "version_major": 2,
       "version_minor": 0
      },
      "text/plain": [
       "  0%|          | 0/10 [00:00<?, ?it/s]"
      ]
     },
     "metadata": {},
     "output_type": "display_data"
    },
    {
     "name": "stdout",
     "output_type": "stream",
     "text": [
      "27\n"
     ]
    },
    {
     "data": {
      "application/vnd.jupyter.widget-view+json": {
       "model_id": "8395cc46066f40b19830bcac353ad386",
       "version_major": 2,
       "version_minor": 0
      },
      "text/plain": [
       "  0%|          | 0/10 [00:00<?, ?it/s]"
      ]
     },
     "metadata": {},
     "output_type": "display_data"
    },
    {
     "name": "stdout",
     "output_type": "stream",
     "text": [
      "28\n"
     ]
    },
    {
     "data": {
      "application/vnd.jupyter.widget-view+json": {
       "model_id": "2edda3e9c8394a09bfb8defd42de6bf5",
       "version_major": 2,
       "version_minor": 0
      },
      "text/plain": [
       "  0%|          | 0/10 [00:00<?, ?it/s]"
      ]
     },
     "metadata": {},
     "output_type": "display_data"
    },
    {
     "name": "stdout",
     "output_type": "stream",
     "text": [
      "29\n"
     ]
    },
    {
     "data": {
      "application/vnd.jupyter.widget-view+json": {
       "model_id": "1d7c2454197747089fa05a95f604c688",
       "version_major": 2,
       "version_minor": 0
      },
      "text/plain": [
       "  0%|          | 0/10 [00:00<?, ?it/s]"
      ]
     },
     "metadata": {},
     "output_type": "display_data"
    },
    {
     "name": "stdout",
     "output_type": "stream",
     "text": [
      "30\n"
     ]
    },
    {
     "data": {
      "application/vnd.jupyter.widget-view+json": {
       "model_id": "c4fe363936e24bea8f07749122454629",
       "version_major": 2,
       "version_minor": 0
      },
      "text/plain": [
       "  0%|          | 0/10 [00:00<?, ?it/s]"
      ]
     },
     "metadata": {},
     "output_type": "display_data"
    },
    {
     "name": "stdout",
     "output_type": "stream",
     "text": [
      "31\n"
     ]
    },
    {
     "data": {
      "application/vnd.jupyter.widget-view+json": {
       "model_id": "01e74d72966c4fcc8034b43dcaf7f44a",
       "version_major": 2,
       "version_minor": 0
      },
      "text/plain": [
       "  0%|          | 0/10 [00:00<?, ?it/s]"
      ]
     },
     "metadata": {},
     "output_type": "display_data"
    },
    {
     "name": "stdout",
     "output_type": "stream",
     "text": [
      "32\n"
     ]
    },
    {
     "data": {
      "application/vnd.jupyter.widget-view+json": {
       "model_id": "9fe08aec25a54a58a096ecc8c2d2987d",
       "version_major": 2,
       "version_minor": 0
      },
      "text/plain": [
       "  0%|          | 0/10 [00:00<?, ?it/s]"
      ]
     },
     "metadata": {},
     "output_type": "display_data"
    },
    {
     "name": "stdout",
     "output_type": "stream",
     "text": [
      "33\n"
     ]
    },
    {
     "data": {
      "application/vnd.jupyter.widget-view+json": {
       "model_id": "a965dc5fd7e94f08808fe73337d1ceee",
       "version_major": 2,
       "version_minor": 0
      },
      "text/plain": [
       "  0%|          | 0/10 [00:00<?, ?it/s]"
      ]
     },
     "metadata": {},
     "output_type": "display_data"
    },
    {
     "name": "stdout",
     "output_type": "stream",
     "text": [
      "34\n"
     ]
    },
    {
     "data": {
      "application/vnd.jupyter.widget-view+json": {
       "model_id": "a40be4cca38a414587c755f96246292a",
       "version_major": 2,
       "version_minor": 0
      },
      "text/plain": [
       "  0%|          | 0/10 [00:00<?, ?it/s]"
      ]
     },
     "metadata": {},
     "output_type": "display_data"
    },
    {
     "name": "stdout",
     "output_type": "stream",
     "text": [
      "35\n"
     ]
    },
    {
     "data": {
      "application/vnd.jupyter.widget-view+json": {
       "model_id": "d10df0e904784692a09c847100bd997d",
       "version_major": 2,
       "version_minor": 0
      },
      "text/plain": [
       "  0%|          | 0/10 [00:00<?, ?it/s]"
      ]
     },
     "metadata": {},
     "output_type": "display_data"
    },
    {
     "name": "stdout",
     "output_type": "stream",
     "text": [
      "36\n"
     ]
    },
    {
     "data": {
      "application/vnd.jupyter.widget-view+json": {
       "model_id": "76afbfa618654b1c8f74077b749c8565",
       "version_major": 2,
       "version_minor": 0
      },
      "text/plain": [
       "  0%|          | 0/10 [00:00<?, ?it/s]"
      ]
     },
     "metadata": {},
     "output_type": "display_data"
    },
    {
     "name": "stdout",
     "output_type": "stream",
     "text": [
      "37\n"
     ]
    },
    {
     "data": {
      "application/vnd.jupyter.widget-view+json": {
       "model_id": "451ed821f19b47dfae45dfb31bd4aaf8",
       "version_major": 2,
       "version_minor": 0
      },
      "text/plain": [
       "  0%|          | 0/10 [00:00<?, ?it/s]"
      ]
     },
     "metadata": {},
     "output_type": "display_data"
    },
    {
     "name": "stdout",
     "output_type": "stream",
     "text": [
      "38\n"
     ]
    },
    {
     "data": {
      "application/vnd.jupyter.widget-view+json": {
       "model_id": "69d549634d804c84ba9944afe4bdae89",
       "version_major": 2,
       "version_minor": 0
      },
      "text/plain": [
       "  0%|          | 0/10 [00:00<?, ?it/s]"
      ]
     },
     "metadata": {},
     "output_type": "display_data"
    },
    {
     "name": "stdout",
     "output_type": "stream",
     "text": [
      "39\n"
     ]
    },
    {
     "data": {
      "application/vnd.jupyter.widget-view+json": {
       "model_id": "097d28d37e23492a8d9cf845112a0dc8",
       "version_major": 2,
       "version_minor": 0
      },
      "text/plain": [
       "  0%|          | 0/10 [00:00<?, ?it/s]"
      ]
     },
     "metadata": {},
     "output_type": "display_data"
    },
    {
     "name": "stdout",
     "output_type": "stream",
     "text": [
      "40\n"
     ]
    },
    {
     "data": {
      "application/vnd.jupyter.widget-view+json": {
       "model_id": "0ca0b26a19a149f59addb47ee8b23714",
       "version_major": 2,
       "version_minor": 0
      },
      "text/plain": [
       "  0%|          | 0/10 [00:00<?, ?it/s]"
      ]
     },
     "metadata": {},
     "output_type": "display_data"
    },
    {
     "name": "stdout",
     "output_type": "stream",
     "text": [
      "41\n"
     ]
    },
    {
     "data": {
      "application/vnd.jupyter.widget-view+json": {
       "model_id": "3ff897c14d9a44b1a727a277174e9e64",
       "version_major": 2,
       "version_minor": 0
      },
      "text/plain": [
       "  0%|          | 0/10 [00:00<?, ?it/s]"
      ]
     },
     "metadata": {},
     "output_type": "display_data"
    },
    {
     "name": "stdout",
     "output_type": "stream",
     "text": [
      "42\n"
     ]
    },
    {
     "data": {
      "application/vnd.jupyter.widget-view+json": {
       "model_id": "e725af4eda434659bfa9fc83c988f162",
       "version_major": 2,
       "version_minor": 0
      },
      "text/plain": [
       "  0%|          | 0/10 [00:00<?, ?it/s]"
      ]
     },
     "metadata": {},
     "output_type": "display_data"
    },
    {
     "name": "stdout",
     "output_type": "stream",
     "text": [
      "43\n"
     ]
    },
    {
     "data": {
      "application/vnd.jupyter.widget-view+json": {
       "model_id": "6a36bd47c90f471783276dee6ae75ab4",
       "version_major": 2,
       "version_minor": 0
      },
      "text/plain": [
       "  0%|          | 0/10 [00:00<?, ?it/s]"
      ]
     },
     "metadata": {},
     "output_type": "display_data"
    },
    {
     "name": "stdout",
     "output_type": "stream",
     "text": [
      "44\n"
     ]
    },
    {
     "data": {
      "application/vnd.jupyter.widget-view+json": {
       "model_id": "022117399ed84787abff2d7c12ddc2c7",
       "version_major": 2,
       "version_minor": 0
      },
      "text/plain": [
       "  0%|          | 0/10 [00:00<?, ?it/s]"
      ]
     },
     "metadata": {},
     "output_type": "display_data"
    },
    {
     "name": "stdout",
     "output_type": "stream",
     "text": [
      "45\n"
     ]
    },
    {
     "data": {
      "application/vnd.jupyter.widget-view+json": {
       "model_id": "b50b852cb7c64c2194e91462fce8b4b8",
       "version_major": 2,
       "version_minor": 0
      },
      "text/plain": [
       "  0%|          | 0/10 [00:00<?, ?it/s]"
      ]
     },
     "metadata": {},
     "output_type": "display_data"
    }
   ],
   "source": [
    "agentsposes=startposes.copy()\n",
    "agentsdirs=startdirs.copy()\n",
    "agentsvels=startvels.copy()\n",
    "\n",
    "\n",
    "file=open(filename+'.csv','a')\n",
    "writer=csv.writer(file)\n",
    "xlocs=np.real(agentsposes)\n",
    "ylocs=np.imag(agentsposes)\n",
    "plt.figure()\n",
    "plt.gca().set_aspect(1)\n",
    "plotboundary(boundaryradius)\n",
    "plt.scatter(np.real(agentsposes),np.imag(agentsposes),c=range(numagents),cmap='gist_ncar',vmin=0,vmax=numagents)\n",
    "writer.writerow(list(agentsposes))\n",
    "writer.writerow(list(agentsdirs))\n",
    "for i in range(numagents):\n",
    "    dir=cmath.rect(1,agentsdirs[i])\n",
    "    plt.arrow(xlocs[i],ylocs[i],3*np.real(dir),3*np.imag(dir))\n",
    "plt.savefig(filename+'_'+str(0)+'.png',facecolor='white')\n",
    "plt.close()\n",
    "\n",
    "\n",
    "for time in range(num_timesteps):\n",
    "    foodpos=foodposes[time]\n",
    "    agentsposesovertime=findposesovertime(agentsposes,agentsdirs,agentsvels,tau)\n",
    "    agentsposes=agentsposesovertime[0]\n",
    "    print(time)\n",
    "    chosenmoves=[]\n",
    "    @parfor(range(numagents))\n",
    "    def paragent(focal):\n",
    "        stateslists=[]\n",
    "        agentpos=agentsposes[focal]\n",
    "        agentdir=agentsdirs[focal]\n",
    "        agentvel=agentsvels[focal]\n",
    "        moveset=make_moveset(agentpos,agentdir,agentvel)\n",
    "        for move in moveset:\n",
    "            # evolvelist=evolve(agentpos,agentdir, focal, agentsposesovertime, move, 1,tau)\n",
    "            evolvelist=randevolve(numsamp,agentpos,agentdir,focal,agentsposesovertime,move,1,tau,[1/3]*3,[1/3]*3,foodpos)\n",
    "            stateslists.append(evolvelist)\n",
    "        chosen=getbest(stateslists)\n",
    "        return moveset[chosen]\n",
    "    chosenmoves=paragent\n",
    "    for updateagent in range(numagents):\n",
    "        newpos=updatepos(agentsposes[updateagent],chosenmoves[updateagent][1],chosenmoves[updateagent][0])\n",
    "        if np.abs(newpos)>boundaryradius-agentradius:\n",
    "            newpos=agentsposes[updateagent]\n",
    "        agentsposes[updateagent]=newpos\n",
    "        agentsdirs[updateagent]=chosenmoves[updateagent][1]\n",
    "        agentsvels[updateagent]=chosenmoves[updateagent][0]\n",
    "    xlocs=np.real(agentsposes)\n",
    "    ylocs=np.imag(agentsposes)\n",
    "    writer.writerow(chosenmoves)\n",
    "    writer.writerow(list(agentsposes))\n",
    "    writer.writerow(list(agentsdirs))\n",
    "    plt.figure()\n",
    "    plotboundary(boundaryradius)\n",
    "    plt.gca().set_aspect(1)\n",
    "    if foodpos!='n':\n",
    "        plt.scatter(np.real(foodpos),np.imag(foodpos),marker='s',s=90)\n",
    "    plt.scatter(xlocs,ylocs,c=range(numagents),cmap='gist_ncar',vmin=0,vmax=numagents)\n",
    "    for i in range(numagents):\n",
    "        dir=cmath.rect(1,agentsdirs[i])\n",
    "        plt.arrow(xlocs[i],ylocs[i],3*np.real(dir),3*np.imag(dir))\n",
    "    plt.savefig(filename+'_'+str(time+1)+'.png',facecolor='white')\n",
    "    plt.close()\n",
    "file.close()"
   ]
  },
  {
   "cell_type": "code",
   "execution_count": 11,
   "id": "9c81bfeb-9acd-451f-aabb-cc87f85327dd",
   "metadata": {},
   "outputs": [],
   "source": [
    "agentsposes=startposes.copy()\n",
    "agentsdirs=startdirs.copy()\n",
    "agentsvels=startvels.copy()\n",
    "\n",
    "filename+='rand_'\n",
    "\n",
    "file=open(filename+'.csv','a')\n",
    "writer=csv.writer(file)\n",
    "writer.writerow(list(agentsposes))\n",
    "writer.writerow(list(agentsdirs))\n",
    "\n",
    "\n",
    "for time in range(num_timesteps):\n",
    "    foodpos=foodposes[time]\n",
    "    for agent in range(numagents):\n",
    "        posdet=False\n",
    "        if foodpos!='n':\n",
    "\n",
    "            sensorout=P.empty()\n",
    "            for others in range(numagents):\n",
    "                if others==agent:\n",
    "                    continue\n",
    "                else:\n",
    "                    disp=agentsposes[others]-agentsposes[agent]\n",
    "                    radbydisp=agentradius/abs(disp)\n",
    "                    halfsub=np.arcsin(radbydisp) if radbydisp<1 else np.pi/2\n",
    "                    relthet=(cmath.phase(disp)-agentsdirs[agent])            \n",
    "                    sensorout=sensorout|thetainterval(relthet-halfsub,relthet+halfsub)\n",
    "            \n",
    "            disp=foodpos-agentsposes[agent]\n",
    "            radbydisp=foodradius/abs(disp)\n",
    "            halfsub=np.arcsin(radbydisp) if radbydisp<1 else np.pi/2\n",
    "            relthet=(cmath.phase(disp)-agentsdirs[agent])%(2*np.pi)           \n",
    "            foodout=thetainterval(relthet-halfsub,relthet+halfsub)\n",
    "            if not(((foodout & ~sensorout)&foodcone).empty):\n",
    "                posdet=True\n",
    "                if relthet<np.pi:\n",
    "                    # k=relthet//deltheta\n",
    "                    # k=min(k,2)\n",
    "                    newdir=(agentsdirs[agent]+deltheta)%(2*np.pi)\n",
    "                    # newdir=(agentsdirs[agent]+deltheta*k)%(2*np.pi)\n",
    "                else:\n",
    "                    # k=(2*np.pi-relthet)//deltheta\n",
    "                    # k=min(k,2)\n",
    "                    newdir=(agentsdirs[agent]-deltheta)%(2*np.pi)\n",
    "                    # newdir=(agentsdirs[agent]-deltheta*k)%(2*np.pi)\n",
    "                newvel=maxvel if abs(disp)>maxvel else abs(disp)//2\n",
    "                # newvel=v0\n",
    "                newpos=agentsposes[agent]+cmath.rect(newvel,newdir)\n",
    "            if np.abs(agentsposes[agent]-foodpos)<foodradius:\n",
    "                posdet=True\n",
    "                disp=foodpos-agentsposes[agent]\n",
    "                relthet=(cmath.phase(disp)-agentsdirs[agent])%(2*np.pi)\n",
    "                if relthet<np.pi:\n",
    "                    # k=relthet//deltheta\n",
    "                    # k=min(k,2)\n",
    "                    newdir=(agentsdirs[agent]+deltheta)%(2*np.pi)\n",
    "                    # newdir=(agentsdirs[agent]+deltheta*k)%(2*np.pi)\n",
    "                else:\n",
    "                    # k=(2*np.pi-relthet)//deltheta\n",
    "                    # k=min(k,2)\n",
    "                    newdir=(agentsdirs[agent]-deltheta)%(2*np.pi)\n",
    "                    # newdir=(agentsdirs[agent]-deltheta*k)%(2*np.pi)\n",
    "                newvel=maxvel if abs(disp)>maxvel else abs(disp)//2\n",
    "                # newvel=v0\n",
    "                newpos=agentsposes[agent]+cmath.rect(newvel,newdir)\n",
    "            \n",
    "        if not(posdet):\n",
    "            newvel=agentsvels[agent]+delv*np.random.choice([0,1,-1])\n",
    "            # newvel=v0\n",
    "            if newvel<minvel:\n",
    "                newvel+=delv\n",
    "            elif newvel>maxvel:\n",
    "                newvel-=delv\n",
    "            # newdir=(agentsdirs[agent]+deltheta*np.random.choice([0,1,-1,-2,2]))%(2*np.pi)\n",
    "            newdir=(agentsdirs[agent]+deltheta*np.random.choice([0,1,-1]))%(2*np.pi)\n",
    "            newpos=agentsposes[agent]+cmath.rect(newvel,newdir)\n",
    "        if np.abs(newpos)>boundaryradius-agentradius:\n",
    "            newpos=agentsposes[agent]\n",
    "            newdir=(newdir+np.pi)%(2*np.pi)\n",
    "        agentsposes[agent]=newpos\n",
    "        agentsdirs[agent]=newdir\n",
    "        agentsvels[agent]=newvel\n",
    "    plt.figure()\n",
    "    xlocs=np.real(agentsposes)\n",
    "    ylocs=np.imag(agentsposes)\n",
    "\n",
    "    writer.writerow(list(agentsposes))\n",
    "    writer.writerow(list(agentsdirs))\n",
    "    plotboundary(boundaryradius)\n",
    "    plt.gca().set_aspect(1)\n",
    "    if foodpos!='n':\n",
    "        plt.scatter(np.real(foodpos),np.imag(foodpos),marker='s',s=90)\n",
    "    plt.scatter(xlocs,ylocs,c=range(numagents),cmap='gist_ncar',vmin=0,vmax=numagents)\n",
    "    for i in range(numagents):\n",
    "        dir=cmath.rect(1,agentsdirs[i])\n",
    "        plt.arrow(xlocs[i],ylocs[i],3*np.real(dir),3*np.imag(dir))\n",
    "    plt.savefig(filename+str(time+1)+'.png',facecolor='white')\n",
    "    plt.close()\n",
    "\n",
    "file.close()"
   ]
  },
  {
   "cell_type": "code",
   "execution_count": null,
   "id": "277e2eb5-a312-48c3-8e5f-06da7bdad3d6",
   "metadata": {},
   "outputs": [],
   "source": [
    "filename"
   ]
  },
  {
   "cell_type": "code",
   "execution_count": 7,
   "id": "ffc41cd6-2a20-4f3a-883c-73518c122714",
   "metadata": {},
   "outputs": [
    {
     "data": {
      "text/plain": [
       "(-1.3613570180883325+1.4494743379495985j)"
      ]
     },
     "execution_count": 7,
     "metadata": {},
     "output_type": "execute_result"
    }
   ],
   "source": [
    "disp"
   ]
  },
  {
   "cell_type": "code",
   "execution_count": null,
   "id": "3a64695d-1508-4e84-a8fe-654e758b0e37",
   "metadata": {},
   "outputs": [],
   "source": []
  },
  {
   "cell_type": "code",
   "execution_count": null,
   "id": "bfcfb048-4c42-4abc-9820-e7a1d9a416fb",
   "metadata": {},
   "outputs": [],
   "source": []
  },
  {
   "cell_type": "code",
   "execution_count": null,
   "id": "32989bcc-8dbc-41a8-9d64-6d9c9513f513",
   "metadata": {},
   "outputs": [],
   "source": []
  },
  {
   "cell_type": "code",
   "execution_count": null,
   "id": "27568cc5-5645-4591-b206-3c9d64a2b652",
   "metadata": {},
   "outputs": [],
   "source": []
  },
  {
   "cell_type": "code",
   "execution_count": null,
   "id": "e8d50bdc-f2fe-4cd8-87d0-cc495353286b",
   "metadata": {},
   "outputs": [],
   "source": []
  },
  {
   "cell_type": "code",
   "execution_count": null,
   "id": "16ee2106-75f3-493c-908b-497e9a2efd48",
   "metadata": {},
   "outputs": [],
   "source": []
  },
  {
   "cell_type": "code",
   "execution_count": null,
   "id": "a4349e08-d8d7-4e93-98bf-d16845d66082",
   "metadata": {},
   "outputs": [],
   "source": []
  },
  {
   "cell_type": "code",
   "execution_count": null,
   "id": "6c69013f-08da-4a2a-aed0-02f72d4a1e49",
   "metadata": {},
   "outputs": [],
   "source": []
  },
  {
   "cell_type": "code",
   "execution_count": null,
   "id": "7aa52208-fbe4-4761-bbc4-9278a0d6e044",
   "metadata": {},
   "outputs": [],
   "source": []
  }
 ],
 "metadata": {
  "kernelspec": {
   "display_name": "Python 3 (ipykernel)",
   "language": "python",
   "name": "python3"
  },
  "language_info": {
   "codemirror_mode": {
    "name": "ipython",
    "version": 3
   },
   "file_extension": ".py",
   "mimetype": "text/x-python",
   "name": "python",
   "nbconvert_exporter": "python",
   "pygments_lexer": "ipython3",
   "version": "3.10.12"
  }
 },
 "nbformat": 4,
 "nbformat_minor": 5
}
